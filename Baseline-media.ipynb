{
 "cells": [
  {
   "cell_type": "markdown",
   "id": "6a63460e",
   "metadata": {},
   "source": [
    "Baseline - Tn a 12-2019"
   ]
  },
  {
   "cell_type": "code",
   "execution_count": 1,
   "id": "1c707dc1",
   "metadata": {},
   "outputs": [],
   "source": [
    "import pandas as pd\n",
    "import matplotlib.pyplot as plt\n",
    "import seaborn as sns\n",
    "import numpy as np\n",
    "from statsmodels.tsa.seasonal import seasonal_decompose\n",
    "from statsmodels.tsa.stattools import acf\n",
    "from statsmodels.graphics.tsaplots import plot_acf\n",
    "from scipy.stats import linregress\n",
    "import os\n",
    "\n",
    "# Optional for larger text and better visuals\n",
    "sns.set(style=\"whitegrid\", context=\"talk\")"
   ]
  },
  {
   "cell_type": "code",
   "execution_count": 2,
   "id": "9c9d72b2",
   "metadata": {},
   "outputs": [],
   "source": [
    "# Load the sales data (tab-delimited)\n",
    "sales = pd.read_csv(\"datasets/sell-in.txt\", sep=\"\\t\", dtype={\"periodo\": str})\n",
    "\n",
    "# Load the stocks data (tab-delimited)\n",
    "stocks = pd.read_csv(\"datasets/tb_stocks.txt\", sep=\"\\t\", dtype={\"periodo\": str})\n",
    "\n",
    "# Load the product information data (tab-delimited)\n",
    "product_info = pd.read_csv(\"datasets/tb_productos.txt\", sep=\"\\t\")\n",
    "\n",
    "#carga productos a predecir\n",
    "product_predict = pd.read_csv(\"datasets/product_id_apredecir201912.txt\", sep=\"\\t\",header=0)"
   ]
  },
  {
   "cell_type": "code",
   "execution_count": 3,
   "id": "1b1c45e9",
   "metadata": {},
   "outputs": [],
   "source": [
    "# Asegurar que 'periodo' sea string\n",
    "sales['periodo'] = sales['periodo'].astype(str)\n",
    "\n",
    "# Filtrar solo Diciembre 2019\n",
    "sales_dic2019 = sales[sales['periodo'] == '201912']"
   ]
  },
  {
   "cell_type": "code",
   "execution_count": 4,
   "id": "727a7937",
   "metadata": {},
   "outputs": [],
   "source": [
    "# Agrupar por product_id y sumar tn\n",
    "ventas_dic2019 = sales_dic2019.groupby('product_id')['tn'].sum().reset_index()\n",
    "ventas_dic2019 = ventas_dic2019.rename(columns={'tn': 'tn_dic2019'})\n",
    "\n"
   ]
  },
  {
   "cell_type": "code",
   "execution_count": 5,
   "id": "d5b3a6b2",
   "metadata": {},
   "outputs": [
    {
     "data": {
      "text/html": [
       "<div>\n",
       "<style scoped>\n",
       "    .dataframe tbody tr th:only-of-type {\n",
       "        vertical-align: middle;\n",
       "    }\n",
       "\n",
       "    .dataframe tbody tr th {\n",
       "        vertical-align: top;\n",
       "    }\n",
       "\n",
       "    .dataframe thead th {\n",
       "        text-align: right;\n",
       "    }\n",
       "</style>\n",
       "<table border=\"1\" class=\"dataframe\">\n",
       "  <thead>\n",
       "    <tr style=\"text-align: right;\">\n",
       "      <th></th>\n",
       "      <th>product_id</th>\n",
       "      <th>tn_dic2019</th>\n",
       "    </tr>\n",
       "  </thead>\n",
       "  <tbody>\n",
       "    <tr>\n",
       "      <th>0</th>\n",
       "      <td>20001</td>\n",
       "      <td>1504.68856</td>\n",
       "    </tr>\n",
       "    <tr>\n",
       "      <th>1</th>\n",
       "      <td>20002</td>\n",
       "      <td>1087.30855</td>\n",
       "    </tr>\n",
       "    <tr>\n",
       "      <th>2</th>\n",
       "      <td>20003</td>\n",
       "      <td>892.50129</td>\n",
       "    </tr>\n",
       "    <tr>\n",
       "      <th>3</th>\n",
       "      <td>20004</td>\n",
       "      <td>637.90002</td>\n",
       "    </tr>\n",
       "    <tr>\n",
       "      <th>4</th>\n",
       "      <td>20005</td>\n",
       "      <td>593.24443</td>\n",
       "    </tr>\n",
       "  </tbody>\n",
       "</table>\n",
       "</div>"
      ],
      "text/plain": [
       "   product_id  tn_dic2019\n",
       "0       20001  1504.68856\n",
       "1       20002  1087.30855\n",
       "2       20003   892.50129\n",
       "3       20004   637.90002\n",
       "4       20005   593.24443"
      ]
     },
     "execution_count": 5,
     "metadata": {},
     "output_type": "execute_result"
    }
   ],
   "source": [
    "ventas_dic2019.head()"
   ]
  },
  {
   "cell_type": "code",
   "execution_count": 6,
   "id": "09a129bf",
   "metadata": {},
   "outputs": [
    {
     "name": "stdout",
     "output_type": "stream",
     "text": [
      "product_id    0\n",
      "tn_dic2019    0\n",
      "dtype: int64\n"
     ]
    }
   ],
   "source": [
    "# Verificar si existen valores nulos en ventas_dic2019\n",
    "print(ventas_dic2019.isnull().sum())"
   ]
  },
  {
   "cell_type": "code",
   "execution_count": 7,
   "id": "9eadc2f8",
   "metadata": {},
   "outputs": [
    {
     "name": "stdout",
     "output_type": "stream",
     "text": [
      "   product_id  tn_dic2019\n",
      "0       20001  1504.68856\n",
      "1       20002  1087.30855\n",
      "2       20003   892.50129\n",
      "3       20004   637.90002\n",
      "4       20005   593.24443\n"
     ]
    }
   ],
   "source": [
    "# Unir con la tabla de productos a predecir\n",
    "product_predict = product_predict.merge(ventas_dic2019, on='product_id', how='left')\n",
    "\n",
    "# Reemplazar NaN por 0 si el producto no tuvo ventas en ese período\n",
    "# product_predict['tn_dic2019'] = product_predict['tn_dic2019'].fillna(0)\n",
    "\n",
    "# Mostrar los primeros resultados\n",
    "print(product_predict.head())"
   ]
  },
  {
   "cell_type": "code",
   "execution_count": 8,
   "id": "1dfc212c",
   "metadata": {},
   "outputs": [],
   "source": [
    "import os\n",
    "\n",
    "os.makedirs('../data', exist_ok=True)\n",
    "product_predict.to_csv('../data/pred_trivial_dic19.csv', index=False)"
   ]
  },
  {
   "cell_type": "code",
   "execution_count": 9,
   "id": "5ad0a701",
   "metadata": {},
   "outputs": [],
   "source": [
    "\n",
    "product_predict.to_csv(\"data/pred_trivial_dic19.csv\", index=False, encoding=\"utf-8\")"
   ]
  }
 ],
 "metadata": {
  "kernelspec": {
   "display_name": "ldi2",
   "language": "python",
   "name": "python3"
  },
  "language_info": {
   "codemirror_mode": {
    "name": "ipython",
    "version": 3
   },
   "file_extension": ".py",
   "mimetype": "text/x-python",
   "name": "python",
   "nbconvert_exporter": "python",
   "pygments_lexer": "ipython3",
   "version": "3.12.4"
  }
 },
 "nbformat": 4,
 "nbformat_minor": 5
}
