{
 "cells": [
  {
   "cell_type": "markdown",
   "id": "f95adae8",
   "metadata": {},
   "source": [
    "# Labo III\n",
    "# Multinacional - Prediccion de Ventas"
   ]
  },
  {
   "cell_type": "code",
   "execution_count": 74,
   "id": "4bcccba7",
   "metadata": {},
   "outputs": [],
   "source": [
    "import pandas as pd\n",
    "import numpy as np\n",
    "import math\n",
    "import matplotlib.pyplot as plt\n",
    "from pathlib import Path\n",
    "\n",
    "from sklearn.linear_model import LinearRegression\n",
    "from sklearn.metrics import mean_absolute_error\n",
    "from sklearn.linear_model import Ridge\n",
    "from sklearn.pipeline import Pipeline\n",
    "from sklearn.preprocessing import StandardScaler\n",
    "from sklearn.metrics import make_scorer\n",
    "from sklearn.model_selection import GridSearchCV, TimeSeriesSplit\n",
    "\n",
    "from tslearn.utils import to_time_series_dataset\n",
    "from tslearn.metrics import cdist_dtw\n",
    "from tslearn.clustering import TimeSeriesKMeans"
   ]
  },
  {
   "cell_type": "markdown",
   "id": "b64de807",
   "metadata": {},
   "source": [
    "## Cargo datasets y limpieza"
   ]
  },
  {
   "cell_type": "code",
   "execution_count": 75,
   "id": "157fc568",
   "metadata": {},
   "outputs": [],
   "source": [
    "# Load the data aggregated_montly_sales.csv using pandas\n",
    "data = pd.read_csv('datasets/aggregated_montly_sales.csv', parse_dates=['periodo'])"
   ]
  },
  {
   "cell_type": "code",
   "execution_count": 76,
   "id": "7ba68c31",
   "metadata": {},
   "outputs": [
    {
     "data": {
      "text/html": [
       "<div>\n",
       "<style scoped>\n",
       "    .dataframe tbody tr th:only-of-type {\n",
       "        vertical-align: middle;\n",
       "    }\n",
       "\n",
       "    .dataframe tbody tr th {\n",
       "        vertical-align: top;\n",
       "    }\n",
       "\n",
       "    .dataframe thead th {\n",
       "        text-align: right;\n",
       "    }\n",
       "</style>\n",
       "<table border=\"1\" class=\"dataframe\">\n",
       "  <thead>\n",
       "    <tr style=\"text-align: right;\">\n",
       "      <th></th>\n",
       "      <th>periodo</th>\n",
       "      <th>product_id</th>\n",
       "      <th>tn</th>\n",
       "      <th>cat1</th>\n",
       "      <th>cat2</th>\n",
       "      <th>cat3</th>\n",
       "      <th>brand</th>\n",
       "      <th>sku_size</th>\n",
       "      <th>descripcion</th>\n",
       "      <th>ipc</th>\n",
       "      <th>exchange_rate</th>\n",
       "    </tr>\n",
       "  </thead>\n",
       "  <tbody>\n",
       "    <tr>\n",
       "      <th>0</th>\n",
       "      <td>2017-01-01</td>\n",
       "      <td>20001</td>\n",
       "      <td>934.77220</td>\n",
       "      <td>HC</td>\n",
       "      <td>ROPA LAVADO</td>\n",
       "      <td>Liquido</td>\n",
       "      <td>ARIEL</td>\n",
       "      <td>3000.0</td>\n",
       "      <td>genoma</td>\n",
       "      <td>1.6</td>\n",
       "      <td>16.96</td>\n",
       "    </tr>\n",
       "    <tr>\n",
       "      <th>1</th>\n",
       "      <td>2017-01-01</td>\n",
       "      <td>20002</td>\n",
       "      <td>550.15704</td>\n",
       "      <td>HC</td>\n",
       "      <td>ROPA LAVADO</td>\n",
       "      <td>Liquido</td>\n",
       "      <td>LIMPIEX</td>\n",
       "      <td>3000.0</td>\n",
       "      <td>Maquina 1er lavado</td>\n",
       "      <td>1.6</td>\n",
       "      <td>16.96</td>\n",
       "    </tr>\n",
       "    <tr>\n",
       "      <th>2</th>\n",
       "      <td>2017-01-01</td>\n",
       "      <td>20003</td>\n",
       "      <td>1063.45840</td>\n",
       "      <td>FOODS</td>\n",
       "      <td>ADEREZOS</td>\n",
       "      <td>Mayonesa</td>\n",
       "      <td>NATURA</td>\n",
       "      <td>475.0</td>\n",
       "      <td>Regular sin TACC</td>\n",
       "      <td>1.6</td>\n",
       "      <td>16.96</td>\n",
       "    </tr>\n",
       "    <tr>\n",
       "      <th>3</th>\n",
       "      <td>2017-01-01</td>\n",
       "      <td>20004</td>\n",
       "      <td>555.91614</td>\n",
       "      <td>FOODS</td>\n",
       "      <td>ADEREZOS</td>\n",
       "      <td>Mayonesa</td>\n",
       "      <td>NATURA</td>\n",
       "      <td>240.0</td>\n",
       "      <td>Regular sin TACC</td>\n",
       "      <td>1.6</td>\n",
       "      <td>16.96</td>\n",
       "    </tr>\n",
       "    <tr>\n",
       "      <th>4</th>\n",
       "      <td>2017-01-01</td>\n",
       "      <td>20005</td>\n",
       "      <td>494.27010</td>\n",
       "      <td>FOODS</td>\n",
       "      <td>ADEREZOS</td>\n",
       "      <td>Mayonesa</td>\n",
       "      <td>NATURA</td>\n",
       "      <td>120.0</td>\n",
       "      <td>Regular sin TACC</td>\n",
       "      <td>1.6</td>\n",
       "      <td>16.96</td>\n",
       "    </tr>\n",
       "  </tbody>\n",
       "</table>\n",
       "</div>"
      ],
      "text/plain": [
       "     periodo  product_id          tn   cat1         cat2      cat3    brand  \\\n",
       "0 2017-01-01       20001   934.77220     HC  ROPA LAVADO   Liquido    ARIEL   \n",
       "1 2017-01-01       20002   550.15704     HC  ROPA LAVADO   Liquido  LIMPIEX   \n",
       "2 2017-01-01       20003  1063.45840  FOODS     ADEREZOS  Mayonesa   NATURA   \n",
       "3 2017-01-01       20004   555.91614  FOODS     ADEREZOS  Mayonesa   NATURA   \n",
       "4 2017-01-01       20005   494.27010  FOODS     ADEREZOS  Mayonesa   NATURA   \n",
       "\n",
       "   sku_size         descripcion  ipc  exchange_rate  \n",
       "0    3000.0              genoma  1.6          16.96  \n",
       "1    3000.0  Maquina 1er lavado  1.6          16.96  \n",
       "2     475.0    Regular sin TACC  1.6          16.96  \n",
       "3     240.0    Regular sin TACC  1.6          16.96  \n",
       "4     120.0    Regular sin TACC  1.6          16.96  "
      ]
     },
     "execution_count": 76,
     "metadata": {},
     "output_type": "execute_result"
    }
   ],
   "source": [
    "data.head()"
   ]
  },
  {
   "cell_type": "code",
   "execution_count": 77,
   "id": "80d76541",
   "metadata": {},
   "outputs": [
    {
     "name": "stdout",
     "output_type": "stream",
     "text": [
      "(31243, 11)\n",
      "periodo          datetime64[ns]\n",
      "product_id                int64\n",
      "tn                      float64\n",
      "cat1                     object\n",
      "cat2                     object\n",
      "cat3                     object\n",
      "brand                    object\n",
      "sku_size                float64\n",
      "descripcion              object\n",
      "ipc                     float64\n",
      "exchange_rate           float64\n",
      "dtype: object\n"
     ]
    }
   ],
   "source": [
    "print(data.shape)\n",
    "print(data.dtypes)"
   ]
  },
  {
   "cell_type": "code",
   "execution_count": 78,
   "id": "fe6f5f98",
   "metadata": {},
   "outputs": [],
   "source": [
    "data = data.sort_values([\"product_id\", \"periodo\"]).reset_index(drop=True)"
   ]
  },
  {
   "cell_type": "markdown",
   "id": "c032ee54",
   "metadata": {},
   "source": [
    "## Fill with 0 when there were no sales"
   ]
  },
  {
   "cell_type": "code",
   "execution_count": 79,
   "id": "0d397451",
   "metadata": {},
   "outputs": [],
   "source": [
    "# ─────────────────────────────────────────────────────────────────────────────\n",
    "# Build a COMPLETE product-month grid (0 = “no sales that month”)\n",
    "# ─────────────────────────────────────────────────────────────────────────────\n",
    "static_cols  = [\"cat1\", \"cat2\", \"cat3\", \"brand\", \"sku_size\"]\n",
    "dynamic_cols = [\"tn\", \"ipc\", \"exchange_rate\"]           # metrics that vary monthly\n",
    "\n",
    "# 1) One clean row per SKU with its static descriptors\n",
    "sku_static = (\n",
    "    data\n",
    "      .sort_values(static_cols)         # deterministic pick\n",
    "      .groupby(\"product_id\", as_index=False)[static_cols]\n",
    "      .first()\n",
    ")\n",
    "\n",
    "# 2) All calendar months present in the dataset\n",
    "all_months = pd.period_range(\n",
    "                data[\"periodo\"].min(),\n",
    "                data[\"periodo\"].max(),\n",
    "                freq=\"M\"\n",
    "             ).to_timestamp()            # → Timestamp('YYYY-MM-01')\n",
    "\n",
    "# 3) Cartesian product: every (product_id, month) combination\n",
    "full_idx = pd.MultiIndex.from_product(\n",
    "             [sku_static[\"product_id\"], all_months],\n",
    "             names=[\"product_id\", \"periodo\"]\n",
    "           )\n",
    "\n",
    "# 4) Keep ONLY the dynamic columns while re-indexing to avoid duplicate statics\n",
    "data_dyn = data[[\"product_id\", \"periodo\", *dynamic_cols]]\n",
    "\n",
    "monthly_full = (\n",
    "    data_dyn\n",
    "      .set_index([\"product_id\", \"periodo\"])\n",
    "      .reindex(full_idx, fill_value=0)     # zero = “no activity” month\n",
    "      .reset_index()\n",
    ")\n",
    "\n",
    "# 5) Bring static attributes back exactly once\n",
    "monthly_full = (\n",
    "    monthly_full\n",
    "      .merge(sku_static, on=\"product_id\", how=\"left\", validate=\"many_to_one\")\n",
    "      .sort_values([\"product_id\", \"periodo\"])\n",
    "      .reset_index(drop=True)\n",
    ")\n"
   ]
  },
  {
   "cell_type": "code",
   "execution_count": 80,
   "id": "1c2f619b",
   "metadata": {},
   "outputs": [
    {
     "name": "stdout",
     "output_type": "stream",
     "text": [
      "(44388, 10)\n",
      "   product_id    periodo         tn  ipc  exchange_rate cat1         cat2     cat3  brand  sku_size\n",
      "0       20001 2017-01-01   934.7722  1.6          16.96   HC  ROPA LAVADO  Liquido  ARIEL    3000.0\n",
      "1       20001 2017-02-01   798.0162  2.1          16.59   HC  ROPA LAVADO  Liquido  ARIEL    3000.0\n",
      "2       20001 2017-03-01  1303.3577  2.4          16.21   HC  ROPA LAVADO  Liquido  ARIEL    3000.0\n",
      "3       20001 2017-04-01  1069.9613  2.7          15.96   HC  ROPA LAVADO  Liquido  ARIEL    3000.0\n",
      "4       20001 2017-05-01  1502.2013  1.4          15.95   HC  ROPA LAVADO  Liquido  ARIEL    3000.0\n"
     ]
    }
   ],
   "source": [
    "print(monthly_full.shape)\n",
    "print(monthly_full.head().to_string())"
   ]
  },
  {
   "cell_type": "markdown",
   "id": "410f2376",
   "metadata": {},
   "source": [
    "# Normalizo"
   ]
  },
  {
   "cell_type": "code",
   "execution_count": 81,
   "id": "09d0ba57",
   "metadata": {},
   "outputs": [
    {
     "name": "stdout",
     "output_type": "stream",
     "text": [
      "   product_id      tn_mean      tn_std\n",
      "0       20001  1398.344308  298.145447\n",
      "1       20002  1009.368185  303.834847\n",
      "2       20003   889.004249  292.036596\n",
      "3       20004   671.615379  224.450078\n",
      "4       20005   644.200514  218.273229\n",
      "(1233, 3)\n"
     ]
    }
   ],
   "source": [
    "# Compute mean and standard deviation per product\n",
    "product_summary = (\n",
    "    monthly_full\n",
    "    .groupby('product_id')\n",
    "    .agg(\n",
    "        tn_mean=('tn', 'mean'),\n",
    "        tn_std =('tn', 'std'),\n",
    "    )\n",
    "    .reset_index()\n",
    ")\n",
    "\n",
    "print(product_summary.head())\n",
    "print(product_summary.shape)"
   ]
  },
  {
   "cell_type": "code",
   "execution_count": 82,
   "id": "b0cd7d63",
   "metadata": {},
   "outputs": [],
   "source": [
    "monthly_full = (\n",
    "    monthly_full\n",
    "    .merge(product_summary, on='product_id', how='left')\n",
    ")\n",
    "\n",
    "monthly_full['tn_normalized'] = (\n",
    "    (monthly_full['tn'] - monthly_full['tn_mean'])\n",
    "    / monthly_full['tn_std']\n",
    ")"
   ]
  },
  {
   "cell_type": "code",
   "execution_count": 83,
   "id": "600afd27",
   "metadata": {},
   "outputs": [
    {
     "name": "stdout",
     "output_type": "stream",
     "text": [
      "   product_id    periodo         tn  ipc  exchange_rate cat1         cat2     cat3  brand  sku_size      tn_mean      tn_std  tn_normalized\n",
      "0       20001 2017-01-01   934.7722  1.6          16.96   HC  ROPA LAVADO  Liquido  ARIEL    3000.0  1398.344308  298.145447      -1.554852\n",
      "1       20001 2017-02-01   798.0162  2.1          16.59   HC  ROPA LAVADO  Liquido  ARIEL    3000.0  1398.344308  298.145447      -2.013541\n",
      "2       20001 2017-03-01  1303.3577  2.4          16.21   HC  ROPA LAVADO  Liquido  ARIEL    3000.0  1398.344308  298.145447      -0.318592\n",
      "3       20001 2017-04-01  1069.9613  2.7          15.96   HC  ROPA LAVADO  Liquido  ARIEL    3000.0  1398.344308  298.145447      -1.101419\n",
      "4       20001 2017-05-01  1502.2013  1.4          15.95   HC  ROPA LAVADO  Liquido  ARIEL    3000.0  1398.344308  298.145447       0.348343\n"
     ]
    }
   ],
   "source": [
    "print(monthly_full.head().to_string())"
   ]
  },
  {
   "cell_type": "markdown",
   "id": "74256772",
   "metadata": {},
   "source": [
    "# Clusterizo con DTW y KM"
   ]
  },
  {
   "cell_type": "code",
   "execution_count": 84,
   "id": "3a57f81d",
   "metadata": {},
   "outputs": [],
   "source": [
    "# Calculo DTW\n",
    "\n",
    "# 1. Pivot the DataFrame so each product_id becomes a row and each periodo a column\n",
    "#    missing tn_normalized will be filled with 0\n",
    "pivot_pd = monthly_full.pivot_table(\n",
    "    index='product_id',\n",
    "    columns='periodo',\n",
    "    values='tn_normalized',\n",
    "    fill_value=0\n",
    ")\n",
    "\n",
    "# 2. (Optional but recommended) Sort the time‐columns so they’re in chronological order\n",
    "pivot_pd = pivot_pd.sort_index(axis=1)\n",
    "\n",
    "# 3. Convert to numpy + tslearn dataset\n",
    "#    This will give you an array of shape (n_products, n_timepoints, 1)\n",
    "X = to_time_series_dataset(pivot_pd.values)"
   ]
  },
  {
   "cell_type": "code",
   "execution_count": 85,
   "id": "daa00441",
   "metadata": {},
   "outputs": [
    {
     "data": {
      "text/plain": [
       "'# Clusterizo\\n\\ninertia = []\\nK = range(2, 50)\\n\\nfor k in K:\\n    model = TimeSeriesKMeans(n_clusters=k, metric=\"dtw\", verbose=False)\\n    model.fit(X)\\n    inertia.append(model.inertia_)\\n\\nplt.plot(K, inertia, marker=\\'o\\')\\nplt.xlabel(\"Number of clusters\")\\nplt.ylabel(\"Inertia (DTW)\")\\nplt.title(\"Elbow Method for DTW Clustering\")\\nplt.show()\\n'"
      ]
     },
     "execution_count": 85,
     "metadata": {},
     "output_type": "execute_result"
    }
   ],
   "source": [
    "'''# Clusterizo\n",
    "\n",
    "inertia = []\n",
    "K = range(2, 50)\n",
    "\n",
    "for k in K:\n",
    "    model = TimeSeriesKMeans(n_clusters=k, metric=\"dtw\", verbose=False)\n",
    "    model.fit(X)\n",
    "    inertia.append(model.inertia_)\n",
    "\n",
    "plt.plot(K, inertia, marker='o')\n",
    "plt.xlabel(\"Number of clusters\")\n",
    "plt.ylabel(\"Inertia (DTW)\")\n",
    "plt.title(\"Elbow Method for DTW Clustering\")\n",
    "plt.show()\n",
    "'''"
   ]
  },
  {
   "cell_type": "code",
   "execution_count": null,
   "id": "2020e9e1",
   "metadata": {},
   "outputs": [],
   "source": [
    "# Clusterizo\n",
    "\n",
    "N_CLUSTERS = 15\n",
    "\n",
    "# 1. Fit the TS-KMeans model on your time-series dataset X\n",
    "model = TimeSeriesKMeans(n_clusters=N_CLUSTERS, metric=\"dtw\", verbose=False)\n",
    "cluster_labels = model.fit_predict(X)\n",
    "\n",
    "# 2. Build a pandas DataFrame from the pivot index and your labels\n",
    "product_clusters = pd.DataFrame({\n",
    "    \"product_id\": pivot_pd.index,\n",
    "    \"cluster\":    cluster_labels\n",
    "}).reset_index(drop=True)\n",
    "\n",
    "print(product_clusters.head())"
   ]
  },
  {
   "cell_type": "code",
   "execution_count": 113,
   "id": "d2733d6c",
   "metadata": {},
   "outputs": [
    {
     "name": "stdout",
     "output_type": "stream",
     "text": [
      "    cluster  count\n",
      "3         3    126\n",
      "8         8    121\n",
      "14       14    121\n",
      "12       12     99\n",
      "7         7     95\n",
      "10       10     95\n",
      "9         9     94\n",
      "4         4     84\n",
      "11       11     82\n",
      "5         5     78\n",
      "2         2     62\n",
      "1         1     54\n",
      "0         0     52\n",
      "13       13     38\n",
      "6         6     32\n"
     ]
    }
   ],
   "source": [
    "# Count products in each cluster\n",
    "cluster_counts = (\n",
    "    product_clusters\n",
    "    .groupby('cluster')\n",
    "    .size()                        # count rows per cluster\n",
    "    .reset_index(name='count')    # turn it into a DataFrame\n",
    "    .sort_values('count', ascending=False)\n",
    "    .head(N_CLUSTERS)\n",
    ")\n",
    "\n",
    "print(cluster_counts)"
   ]
  },
  {
   "cell_type": "code",
   "execution_count": 88,
   "id": "3cf1d24c",
   "metadata": {},
   "outputs": [],
   "source": [
    "# Agrego numero de cluster al dataset original\n",
    "\n",
    "monthly_full = monthly_full.merge(product_clusters, on='product_id', how='left')"
   ]
  },
  {
   "cell_type": "code",
   "execution_count": 89,
   "id": "3e1a756d",
   "metadata": {},
   "outputs": [
    {
     "name": "stdout",
     "output_type": "stream",
     "text": [
      "   product_id    periodo         tn  ipc  exchange_rate cat1         cat2     cat3  brand  sku_size      tn_mean      tn_std  tn_normalized  cluster\n",
      "0       20001 2017-01-01   934.7722  1.6          16.96   HC  ROPA LAVADO  Liquido  ARIEL    3000.0  1398.344308  298.145447      -1.554852        0\n",
      "1       20001 2017-02-01   798.0162  2.1          16.59   HC  ROPA LAVADO  Liquido  ARIEL    3000.0  1398.344308  298.145447      -2.013541        0\n",
      "2       20001 2017-03-01  1303.3577  2.4          16.21   HC  ROPA LAVADO  Liquido  ARIEL    3000.0  1398.344308  298.145447      -0.318592        0\n",
      "3       20001 2017-04-01  1069.9613  2.7          15.96   HC  ROPA LAVADO  Liquido  ARIEL    3000.0  1398.344308  298.145447      -1.101419        0\n",
      "4       20001 2017-05-01  1502.2013  1.4          15.95   HC  ROPA LAVADO  Liquido  ARIEL    3000.0  1398.344308  298.145447       0.348343        0\n"
     ]
    }
   ],
   "source": [
    "print(monthly_full.head().to_string())"
   ]
  },
  {
   "cell_type": "markdown",
   "id": "99a38178",
   "metadata": {},
   "source": [
    "# Total Forecast Error (TFE)\n",
    "Usamos la formula para medir el error de las predicciones:\n",
    "$$\n",
    "\\text{TFE} = \\frac{\\sum_i \\left| \\hat{y}_i - y_i \\right|}{\\sum_i y_i}\n",
    "$$\n"
   ]
  },
  {
   "cell_type": "code",
   "execution_count": 90,
   "id": "41381a6f",
   "metadata": {},
   "outputs": [],
   "source": [
    "def total_forecast_error(y_true, y_pred):\n",
    "    return np.sum(np.abs(y_pred - y_true)) / np.sum(y_true)\n",
    "\n"
   ]
  },
  {
   "cell_type": "markdown",
   "id": "a62038e7",
   "metadata": {},
   "source": [
    "# Feature Engineering"
   ]
  },
  {
   "cell_type": "code",
   "execution_count": 91,
   "id": "3e2b7029",
   "metadata": {},
   "outputs": [],
   "source": [
    "# Sort the data by product_id and periodo\n",
    "monthly_full = monthly_full.sort_values([\"product_id\", \"periodo\"]).reset_index(drop=True)"
   ]
  },
  {
   "cell_type": "code",
   "execution_count": 92,
   "id": "700b8458",
   "metadata": {},
   "outputs": [],
   "source": [
    "monthly_full[\"y\"] = (\n",
    "    monthly_full.groupby(\"product_id\")[\"tn\"]\n",
    "      .shift(-2)                             # +2-month look-ahead\n",
    ")"
   ]
  },
  {
   "cell_type": "code",
   "execution_count": 93,
   "id": "a6a9d2b8",
   "metadata": {},
   "outputs": [],
   "source": [
    "# ─────────────────────────────────────────────────────────────────────────────\n",
    "# Lag features \n",
    "# ─────────────────────────────────────────────────────────────────────────────\n",
    "\n",
    "LAGS = [1, 2, 3, 4, 5, 6, 7, 8, 9, 10, 11, 12]                     # months\n",
    "for lag in LAGS:\n",
    "    monthly_full[f\"tn_lag_{lag}\"] = (\n",
    "        monthly_full.groupby(\"product_id\")[\"tn\"].shift(lag)\n",
    "    )"
   ]
  },
  {
   "cell_type": "code",
   "execution_count": 94,
   "id": "f29d8b31",
   "metadata": {},
   "outputs": [],
   "source": [
    "# ─────────────────────────────────────────────────────────────────────────────\n",
    "# Rolling mean features\n",
    "# ─────────────────────────────────────────────────────────────────────────────\n",
    "\n",
    "# windows you want; order doesn’t matter\n",
    "ROLL_WINDOWS = [3, 6, 12]\n",
    "\n",
    "for w in ROLL_WINDOWS:\n",
    "    monthly_full[f\"tn_roll_mean_{w}\"] = (\n",
    "        monthly_full\n",
    "            .groupby(\"product_id\")[\"tn\"]\n",
    "            .transform(lambda s: s.rolling(w, min_periods=1).mean())\n",
    "            .astype(\"float32\")\n",
    "    )"
   ]
  },
  {
   "cell_type": "code",
   "execution_count": 95,
   "id": "b26b3c0f",
   "metadata": {},
   "outputs": [],
   "source": [
    "# Drop categoricals (for now) and ipc and exchange_rate\n",
    "monthly_full = monthly_full.drop(columns=[\"cat1\", \"cat2\", \"cat3\", \"brand\", \"ipc\", \"exchange_rate\", \"sku_size\"])"
   ]
  },
  {
   "cell_type": "code",
   "execution_count": 96,
   "id": "914a767b",
   "metadata": {},
   "outputs": [
    {
     "name": "stdout",
     "output_type": "stream",
     "text": [
      "Missing values per column:\n",
      "y             2466\n",
      "tn_lag_1      1233\n",
      "tn_lag_2      2466\n",
      "tn_lag_3      3699\n",
      "tn_lag_4      4932\n",
      "tn_lag_5      6165\n",
      "tn_lag_6      7398\n",
      "tn_lag_7      8631\n",
      "tn_lag_8      9864\n",
      "tn_lag_9     11097\n",
      "tn_lag_10    12330\n",
      "tn_lag_11    13563\n",
      "tn_lag_12    14796\n",
      "dtype: int64\n"
     ]
    }
   ],
   "source": [
    "# Count missing values per column\n",
    "missing_counts = monthly_full.isnull().sum()\n",
    "print(\"Missing values per column:\")\n",
    "print(missing_counts[missing_counts > 0])"
   ]
  },
  {
   "cell_type": "code",
   "execution_count": 97,
   "id": "00546463",
   "metadata": {},
   "outputs": [
    {
     "data": {
      "text/plain": [
       "product_id                  int64\n",
       "periodo            datetime64[ns]\n",
       "tn                        float64\n",
       "tn_mean                   float64\n",
       "tn_std                    float64\n",
       "tn_normalized             float64\n",
       "cluster                     int64\n",
       "y                         float64\n",
       "tn_lag_1                  float64\n",
       "tn_lag_2                  float64\n",
       "tn_lag_3                  float64\n",
       "tn_lag_4                  float64\n",
       "tn_lag_5                  float64\n",
       "tn_lag_6                  float64\n",
       "tn_lag_7                  float64\n",
       "tn_lag_8                  float64\n",
       "tn_lag_9                  float64\n",
       "tn_lag_10                 float64\n",
       "tn_lag_11                 float64\n",
       "tn_lag_12                 float64\n",
       "tn_roll_mean_3            float32\n",
       "tn_roll_mean_6            float32\n",
       "tn_roll_mean_12           float32\n",
       "dtype: object"
      ]
     },
     "execution_count": 97,
     "metadata": {},
     "output_type": "execute_result"
    }
   ],
   "source": [
    "monthly_full.dtypes"
   ]
  },
  {
   "cell_type": "markdown",
   "id": "1bddc8b3",
   "metadata": {},
   "source": [
    "# Train/Val split"
   ]
  },
  {
   "cell_type": "code",
   "execution_count": 98,
   "id": "ef9b8b5f",
   "metadata": {},
   "outputs": [],
   "source": [
    "cut_train_end = \"2019-08-01\"\n",
    "cut_valid     = \"2019-10-01\"\n",
    "cut_test      = \"2019-12-01\"\n",
    "\n",
    "train_df = monthly_full[monthly_full[\"periodo\"] <= cut_train_end]\n",
    "valid_df = monthly_full[monthly_full[\"periodo\"] == cut_valid]\n",
    "test_df  = monthly_full[monthly_full[\"periodo\"] == cut_test]          # the month to forecast\n",
    "\n",
    "# Drop rows with NaN values\n",
    "train_df = train_df.dropna()\n",
    "valid_df = valid_df.dropna()\n",
    "\n",
    "feature_cols = (\n",
    "    [c for c in monthly_full.columns \n",
    "     if c not in [\"periodo\", \"product_id\", \"y\", \"tn\", \"tn_normalized\", \"tn_mean\", \"tn_std\"]]\n",
    ")\n",
    "\n",
    "X_train, y_train = train_df[feature_cols], train_df[\"y\"]\n",
    "X_valid, y_valid = valid_df[feature_cols], valid_df[\"y\"]\n",
    "X_test           =  test_df[feature_cols]"
   ]
  },
  {
   "cell_type": "code",
   "execution_count": 99,
   "id": "84158f07",
   "metadata": {},
   "outputs": [
    {
     "name": "stdout",
     "output_type": "stream",
     "text": [
      "    product_id    periodo         tn      tn_mean      tn_std  tn_normalized  cluster          y   tn_lag_1   tn_lag_2   tn_lag_3   tn_lag_4   tn_lag_5   tn_lag_6   tn_lag_7   tn_lag_8   tn_lag_9  tn_lag_10  tn_lag_11  tn_lag_12  tn_roll_mean_3  tn_roll_mean_6  tn_roll_mean_12\n",
      "12       20001 2018-01-01  1169.0753  1398.344308  298.145447      -0.768984        0  1856.8353  1049.3885  1580.4740  1439.7556  1316.9460  1267.3947  1030.6740  1520.0654  1502.2013  1069.9613  1303.3577   798.0162   934.7722     1266.312622     1303.838989      1253.942505\n",
      "13       20001 2018-02-01  1043.7646  1398.344308  298.145447      -1.189284        0  1251.2847  1169.0753  1049.3885  1580.4740  1439.7556  1316.9460  1267.3947  1030.6740  1520.0654  1502.2013  1069.9613  1303.3577   798.0162     1087.409424     1266.567383      1274.421509\n",
      "14       20001 2018-03-01  1856.8353  1398.344308  298.145447       1.537810        0  1293.8978  1043.7646  1169.0753  1049.3885  1580.4740  1439.7556  1316.9460  1267.3947  1030.6740  1520.0654  1502.2013  1069.9613  1303.3577     1356.558350     1356.548828      1320.544678\n",
      "15       20001 2018-04-01  1251.2847  1398.344308  298.145447      -0.493248        0  1150.7917  1856.8353  1043.7646  1169.0753  1049.3885  1580.4740  1439.7556  1316.9460  1267.3947  1030.6740  1520.0654  1502.2013  1069.9613     1383.961548     1325.137085      1335.654907\n",
      "16       20001 2018-05-01  1293.8978  1398.344308  298.145447      -0.350321        0  1470.4100  1251.2847  1856.8353  1043.7646  1169.0753  1049.3885  1580.4740  1439.7556  1316.9460  1267.3947  1030.6740  1520.0654  1502.2013     1467.339233     1277.374390      1318.296265\n"
     ]
    }
   ],
   "source": [
    "print(train_df.head().to_string())"
   ]
  },
  {
   "cell_type": "code",
   "execution_count": 100,
   "id": "b8f3209c",
   "metadata": {},
   "outputs": [
    {
     "name": "stdout",
     "output_type": "stream",
     "text": [
      "Missing values per column:\n",
      "Series([], dtype: int64)\n"
     ]
    }
   ],
   "source": [
    "# Count missing values per column\n",
    "missing_counts = X_train.isnull().sum()\n",
    "print(\"Missing values per column:\")\n",
    "print(missing_counts[missing_counts > 0])"
   ]
  },
  {
   "cell_type": "markdown",
   "id": "28537fcb",
   "metadata": {},
   "source": [
    "# Fit Linear Regression"
   ]
  },
  {
   "cell_type": "code",
   "execution_count": 101,
   "id": "04453c5f",
   "metadata": {},
   "outputs": [
    {
     "name": "stdout",
     "output_type": "stream",
     "text": [
      "    cluster   tn_lag_1   tn_lag_2   tn_lag_3   tn_lag_4   tn_lag_5   tn_lag_6   tn_lag_7   tn_lag_8   tn_lag_9  tn_lag_10  tn_lag_11  tn_lag_12  tn_roll_mean_3  tn_roll_mean_6  tn_roll_mean_12\n",
      "12        0  1049.3885  1580.4740  1439.7556  1316.9460  1267.3947  1030.6740  1520.0654  1502.2013  1069.9613  1303.3577   798.0162   934.7722     1266.312622     1303.838989      1253.942505\n",
      "13        0  1169.0753  1049.3885  1580.4740  1439.7556  1316.9460  1267.3947  1030.6740  1520.0654  1502.2013  1069.9613  1303.3577   798.0162     1087.409424     1266.567383      1274.421509\n",
      "14        0  1043.7646  1169.0753  1049.3885  1580.4740  1439.7556  1316.9460  1267.3947  1030.6740  1520.0654  1502.2013  1069.9613  1303.3577     1356.558350     1356.548828      1320.544678\n",
      "15        0  1856.8353  1043.7646  1169.0753  1049.3885  1580.4740  1439.7556  1316.9460  1267.3947  1030.6740  1520.0654  1502.2013  1069.9613     1383.961548     1325.137085      1335.654907\n",
      "16        0  1251.2847  1856.8353  1043.7646  1169.0753  1049.3885  1580.4740  1439.7556  1316.9460  1267.3947  1030.6740  1520.0654  1502.2013     1467.339233     1277.374390      1318.296265\n"
     ]
    }
   ],
   "source": [
    "df_tr = train_df.loc[(monthly_full['cluster'] == 0)]\n",
    "X_tr = df_tr[feature_cols]\n",
    "\n",
    "print(X_tr.head().to_string()  )"
   ]
  },
  {
   "cell_type": "code",
   "execution_count": 102,
   "id": "dd8ea8d1",
   "metadata": {},
   "outputs": [
    {
     "name": "stdout",
     "output_type": "stream",
     "text": [
      "    cluster  n_train  n_valid  R2_train      R2_valid  TFE_train  \\\n",
      "0         0     1280       64     0.959  9.490000e-01     0.2024   \n",
      "1         3     1940       97     0.932  7.860000e-01     0.3444   \n",
      "2        14     1260       63     0.950  9.930000e-01     0.3020   \n",
      "3         9     1820       91     0.931  9.310000e-01     0.2326   \n",
      "4         5     2040      102     0.882  9.010000e-01     0.2562   \n",
      "5         8     1340       67     0.932  9.500000e-01     0.2558   \n",
      "6         2     2920      146     0.910  4.920000e-01     0.2999   \n",
      "7        12     1540       77     0.937  9.060000e-01     0.2950   \n",
      "8        13     1840       92     0.808  3.790000e-01     0.6143   \n",
      "9         7     2920      146     0.886  8.850000e-01     0.2329   \n",
      "10        4     1840       92     0.664  9.260000e-01     0.7551   \n",
      "11       10     1480       74     0.746 -3.573000e+00     1.2011   \n",
      "12        1      820       41     0.696 -7.000000e-03     0.7304   \n",
      "13       11      960       48     0.542 -4.979683e+20     1.2270   \n",
      "14        6      660       33     0.953  8.330000e-01     0.2373   \n",
      "\n",
      "       TFE_valid  n_coefficients  \n",
      "0   3.236000e-01              16  \n",
      "1   5.109000e-01              16  \n",
      "2   1.650000e-01              16  \n",
      "3   3.565000e-01              16  \n",
      "4   2.848000e-01              16  \n",
      "5   2.817000e-01              16  \n",
      "6   7.938000e-01              16  \n",
      "7   5.540000e-01              16  \n",
      "8   8.525000e-01              16  \n",
      "9   2.324000e-01              16  \n",
      "10  6.801000e-01              16  \n",
      "11  2.932500e+00              16  \n",
      "12  8.970000e-01              16  \n",
      "13  8.110003e+09              16  \n",
      "14  4.325000e-01              16  \n"
     ]
    }
   ],
   "source": [
    "cluster_models   = {}\n",
    "cluster_metrics = []\n",
    "\n",
    "# Loop over each cluster, fit a model, record diagnostics\n",
    "for cluster_label in monthly_full['cluster'].unique():\n",
    "    # Subset train and validation for this cluster\n",
    "    df_tr = train_df.loc[(monthly_full['cluster'] == cluster_label)]\n",
    "    df_va = valid_df.loc[(monthly_full['cluster'] == cluster_label)]\n",
    "    \n",
    "    X_tr = df_tr[feature_cols]\n",
    "    y_tr = df_tr['y']\n",
    "    X_va = df_va[feature_cols]\n",
    "    y_va = df_va['y']\n",
    "    \n",
    "    # Skip clusters with too little data\n",
    "    if len(df_tr) < len(feature_cols):\n",
    "        continue\n",
    "    \n",
    "    # Fit the model\n",
    "    model = LinearRegression(fit_intercept=True, n_jobs=-1)\n",
    "    model.fit(X_tr, y_tr)\n",
    "    cluster_models[cluster_label] = model\n",
    "    \n",
    "    # predictions\n",
    "    y_pred_tr = model.predict(X_tr)\n",
    "    y_pred_va = model.predict(X_va)\n",
    "\n",
    "    # Compute R² and coefficient count\n",
    "    r2_tr = model.score(X_tr, y_tr)\n",
    "    r2_va = model.score(X_va, y_va) if len(df_va) > 0 else float('nan')\n",
    "    n_coef = len(model.coef_)\n",
    "    tfe_tr  = total_forecast_error(y_tr, y_pred_tr)\n",
    "    tfe_va  = total_forecast_error(y_va, y_pred_va)\n",
    "    \n",
    "    cluster_metrics.append({\n",
    "        'cluster':    cluster_label,\n",
    "        'n_train':    len(df_tr),\n",
    "        'n_valid':    len(df_va),\n",
    "        'R2_train':   round(r2_tr, 3),\n",
    "        'R2_valid':   round(r2_va, 3),\n",
    "        'TFE_train':      round(tfe_tr, 4),\n",
    "        'TFE_valid':      round(tfe_va, 4),\n",
    "        'n_coefficients': n_coef\n",
    "    })\n",
    "\n",
    "# 4. View summary of all clusters\n",
    "metrics_df = pd.DataFrame(cluster_metrics)\n",
    "print(metrics_df)"
   ]
  },
  {
   "cell_type": "code",
   "execution_count": null,
   "id": "a994fcfb",
   "metadata": {},
   "outputs": [
    {
     "name": "stdout",
     "output_type": "stream",
     "text": [
      "Overall Validation TotalForecastError: 113524883.1711\n"
     ]
    }
   ],
   "source": [
    "#CAclulo TFE\n",
    "# 2. Initialize your prediction column\n",
    "valid_df['y_pred'] = np.nan\n",
    "\n",
    "# 3. Fill in predictions per-cluster\n",
    "for cluster_label, model in cluster_models.items():\n",
    "    mask = valid_df['cluster'] == cluster_label\n",
    "    if mask.any():\n",
    "        X_va = valid_df.loc[mask, feature_cols]\n",
    "        valid_df.loc[mask, 'y_pred'] = model.predict(X_va)\n",
    "\n",
    "# 4. Compute Total Forecast Error on the full validation set\n",
    "def total_forecast_error(y_true, y_pred):\n",
    "    return np.abs(y_true - y_pred).sum() / y_true.sum()\n",
    "\n",
    "overall_tfe = total_forecast_error(valid_df['y'], valid_df['y_pred'])\n",
    "print(\"Overall Validation TotalForecastError:\", round(overall_tfe, 4))"
   ]
  },
  {
   "cell_type": "code",
   "execution_count": 131,
   "id": "adbd33b7",
   "metadata": {},
   "outputs": [
    {
     "name": "stdout",
     "output_type": "stream",
     "text": [
      "      product_id    periodo           y        y_pred         error\n",
      "610        20615 2019-10-01    14.06805 -1.273963e+12  1.273963e+12\n",
      "657        20662 2019-10-01    11.50205 -9.116483e+11  9.116483e+11\n",
      "912        20933 2019-10-01     3.68027 -2.580144e+11  2.580144e+11\n",
      "1074       21111 2019-10-01     1.46188 -1.861733e+11  1.861733e+11\n",
      "1077       21114 2019-10-01     1.49352 -1.551531e+11  1.551531e+11\n",
      "1007       21035 2019-10-01     1.80884 -1.094929e+11  1.094929e+11\n",
      "437        20440 2019-10-01    34.28062 -8.184493e+10  8.184493e+10\n",
      "1          20002 2019-10-01  1087.30860  1.546028e+03  4.587195e+02\n",
      "31         20032 2019-10-01   527.79810  8.972112e+02  3.694131e+02\n",
      "0          20001 2019-10-01  1504.68860  1.728734e+03  2.240455e+02\n"
     ]
    }
   ],
   "source": [
    "# 1. (Re)compute per‐row error\n",
    "valid_df['error'] = (valid_df['y'] - valid_df['y_pred']).abs()\n",
    "\n",
    "# 2. For each product_id, get the index of the row with max error\n",
    "idx_of_max_error = valid_df.groupby('product_id')['error'].idxmax()\n",
    "\n",
    "# 3. Select those rows, sort by error descending, and take top N\n",
    "top_n = 10\n",
    "top_rows = (\n",
    "    valid_df\n",
    "    .loc[idx_of_max_error]                      # one row per product at its max‐error point\n",
    "    .sort_values('error', ascending=False)     # largest errors first\n",
    "    .head(top_n)                               # top N products\n",
    ")\n",
    "\n",
    "# 4. Print the columns you want\n",
    "print(top_rows[['product_id', 'periodo', 'y', 'y_pred', 'error']])\n"
   ]
  },
  {
   "cell_type": "code",
   "execution_count": 119,
   "id": "b9eebf7b",
   "metadata": {},
   "outputs": [
    {
     "data": {
      "image/png": "[encoded data removed]",
      "text/plain": [
       "<Figure size 800x800 with 1 Axes>"
      ]
     },
     "metadata": {},
     "output_type": "display_data"
    }
   ],
   "source": [
    "# Grafico prediccion vs real\n",
    "\n",
    "plt.figure(figsize=(8, 8))\n",
    "plt.scatter(valid_df['y'], valid_df['y_pred'], alpha=0.5)\n",
    "\n",
    "# Diagonal 45° line (ideal prediction)\n",
    "min_val = min(valid_df['y'].min(), valid_df['y_pred'].min())\n",
    "max_val = max(valid_df['y'].max(), valid_df['y_pred'].max())\n",
    "plt.plot([min_val, max_val], [min_val, max_val])\n",
    "\n",
    "plt.xlabel('Actual Sales')\n",
    "plt.ylabel('Predicted Sales')\n",
    "plt.title('Actual vs Predicted Sales')\n",
    "plt.axis('equal')  # ensure the scales are the same on both axes\n",
    "plt.tight_layout()\n",
    "plt.show()"
   ]
  },
  {
   "cell_type": "markdown",
   "id": "0028f579",
   "metadata": {},
   "source": [
    "# Forecast Feb 2020"
   ]
  },
  {
   "cell_type": "code",
   "execution_count": 132,
   "id": "0da0659a",
   "metadata": {},
   "outputs": [
    {
     "name": "stdout",
     "output_type": "stream",
     "text": [
      "   product_id  forecast_tn\n",
      "0       20001  1554.883726\n",
      "1       20002  1011.220768\n",
      "2       20003   709.875930\n",
      "3       20004   532.770349\n",
      "4       20005   452.490438\n"
     ]
    }
   ],
   "source": [
    "# 3. Loop over each cluster, predict only for that cluster’s rows\n",
    "for cluster_label, model in cluster_models.items():\n",
    "    mask = test_df['cluster'] == cluster_label\n",
    "    if mask.any():\n",
    "        X_test_cluster = test_df.loc[mask, feature_cols]\n",
    "        test_df.loc[mask, 'pred_tn'] = model.predict(X_test_cluster)\n",
    "\n",
    "# 4. Build your final forecast DataFrame\n",
    "forecast_feb2020 = (\n",
    "    test_df[['product_id', 'pred_tn']]\n",
    "    .rename(columns={'pred_tn': 'forecast_tn'})\n",
    ")\n",
    "\n",
    "print(forecast_feb2020.head())"
   ]
  },
  {
   "cell_type": "markdown",
   "id": "2cd0162e",
   "metadata": {},
   "source": [
    "# Calculo promedio 12 meses"
   ]
  },
  {
   "cell_type": "code",
   "execution_count": 123,
   "id": "88794b96",
   "metadata": {},
   "outputs": [
    {
     "name": "stdout",
     "output_type": "stream",
     "text": [
      "   product_id  avg_sales_last_12m\n",
      "0       20001         1487.869450\n",
      "1       20002         1197.552089\n",
      "2       20003          796.305677\n",
      "3       20004          629.387768\n",
      "4       20005          638.415243\n",
      "Total Forecast Error: 0.2884\n"
     ]
    }
   ],
   "source": [
    "# PARA OCTUBRE 2019\n",
    "\n",
    "# ensure periodo is datetime\n",
    "monthly_full['periodo'] = pd.to_datetime(monthly_full['periodo'])\n",
    "\n",
    "# define your 12-month window\n",
    "last_date = pd.to_datetime(cut_valid)\n",
    "start_date = last_date - pd.DateOffset(months=12) + pd.DateOffset(days=1)\n",
    "\n",
    "# filter to that window\n",
    "mask = (monthly_full['periodo'] >= start_date) & (monthly_full['periodo'] <= last_date)\n",
    "window_df = monthly_full.loc[mask]\n",
    "\n",
    "# compute the mean tn per product_id\n",
    "avg_12m = (\n",
    "    window_df\n",
    "    .groupby('product_id')['tn']\n",
    "    .mean()\n",
    "    .reset_index(name='avg_sales_last_12m')\n",
    ")\n",
    "\n",
    "print(avg_12m.head())\n",
    "\n",
    "# TFE\n",
    "# 1. Merge the naive forecast into your test set\n",
    "valid_df = valid_df.merge(avg_12m, on='product_id', how='left')\n",
    "\n",
    "# 2. Use the 12-month average as your forecast\n",
    "valid_df['forecast_tn'] = valid_df['avg_sales_last_12m']\n",
    "\n",
    "# 3. Compute Total Forecast Error\n",
    "tfe = (\n",
    "    (valid_df['forecast_tn'] - valid_df['tn'])\n",
    "    .abs()\n",
    "    .sum()\n",
    "    / valid_df['tn'].sum()\n",
    ")\n",
    "\n",
    "print(\"Total Forecast Error:\", round(tfe, 4))\n"
   ]
  },
  {
   "cell_type": "code",
   "execution_count": 125,
   "id": "cf162d23",
   "metadata": {},
   "outputs": [
    {
     "data": {
      "image/png": "[encoded data removed]",
      "text/plain": [
       "<Figure size 800x800 with 1 Axes>"
      ]
     },
     "metadata": {},
     "output_type": "display_data"
    }
   ],
   "source": [
    "# Grafico prediccion vs real\n",
    "\n",
    "plt.figure(figsize=(8, 8))\n",
    "plt.scatter(valid_df['tn'], valid_df['forecast_tn'], alpha=0.5)\n",
    "\n",
    "# Diagonal 45° line (ideal prediction)\n",
    "min_val = min(valid_df['tn'].min(), valid_df['forecast_tn'].min())\n",
    "max_val = max(valid_df['tn'].max(), valid_df['forecast_tn'].max())\n",
    "plt.plot([min_val, max_val], [min_val, max_val])\n",
    "\n",
    "plt.xlabel('Actual Sales')\n",
    "plt.ylabel('Predicted Sales')\n",
    "plt.title('Actual vs Predicted Sales')\n",
    "plt.axis('equal')  # ensure the scales are the same on both axes\n",
    "plt.tight_layout()\n",
    "plt.show()"
   ]
  },
  {
   "cell_type": "code",
   "execution_count": 127,
   "id": "e08d191b",
   "metadata": {},
   "outputs": [
    {
     "name": "stdout",
     "output_type": "stream",
     "text": [
      "   product_id  avg_sales_last_12m\n",
      "0       20001         1454.732717\n",
      "1       20002         1175.437148\n",
      "2       20003          784.976414\n",
      "3       20004          627.215322\n",
      "4       20005          668.270117\n"
     ]
    }
   ],
   "source": [
    "# PARA DEC 2019 (o sea Feb2020)\n",
    "\n",
    "# ensure periodo is datetime\n",
    "monthly_full['periodo'] = pd.to_datetime(monthly_full['periodo'])\n",
    "\n",
    "# define your 12-month window\n",
    "last_date = pd.to_datetime(cut_test)\n",
    "start_date = last_date - pd.DateOffset(months=12) + pd.DateOffset(days=1)\n",
    "\n",
    "# filter to that window\n",
    "mask = (monthly_full['periodo'] >= start_date) & (monthly_full['periodo'] <= last_date)\n",
    "window_df = monthly_full.loc[mask]\n",
    "\n",
    "# compute the mean tn per product_id\n",
    "avg_12m = (\n",
    "    window_df\n",
    "    .groupby('product_id')['tn']\n",
    "    .mean()\n",
    "    .reset_index(name='avg_sales_last_12m')\n",
    ")\n",
    "\n",
    "print(avg_12m.head())\n",
    "\n"
   ]
  },
  {
   "cell_type": "markdown",
   "id": "e89fcf74",
   "metadata": {},
   "source": [
    "Keep products to predict\n"
   ]
  },
  {
   "cell_type": "code",
   "execution_count": 133,
   "id": "6962da83",
   "metadata": {},
   "outputs": [],
   "source": [
    "# Abrimos el archivo con los productos que queremos predecir\n",
    "to_predict = pd.read_csv(\"datasets/a_predecir.txt\", dtype={\"product_id\": str})\n",
    "product_ids = to_predict['product_id'].astype(str).unique()"
   ]
  },
  {
   "cell_type": "code",
   "execution_count": 134,
   "id": "01f232d9",
   "metadata": {},
   "outputs": [
    {
     "name": "stdout",
     "output_type": "stream",
     "text": [
      "   product_id           tn\n",
      "0       20001  1554.883726\n",
      "1       20002  1011.220768\n",
      "2       20003   709.875930\n",
      "3       20004   532.770349\n",
      "4       20005   452.490438\n",
      "780\n"
     ]
    }
   ],
   "source": [
    "df_filtered = forecast_feb2020[\n",
    "    forecast_feb2020['product_id'].astype(str).isin(product_ids)\n",
    "].copy()\n",
    "\n",
    "# Rename forecast_tn to tn\n",
    "df_filtered.rename(columns={\"forecast_tn\": \"tn\"}, inplace=True)\n",
    "\n",
    "# Now `df_filtered` contains only the products you care about.\n",
    "print(df_filtered.head())\n",
    "\n",
    "print(len(df_filtered))"
   ]
  },
  {
   "cell_type": "code",
   "execution_count": 135,
   "id": "781a9a5a",
   "metadata": {},
   "outputs": [],
   "source": [
    "df_filtered.to_csv(\"lr_clusterizado_dtw.csv\", index=False)"
   ]
  }
 ],
 "metadata": {
  "kernelspec": {
   "display_name": "Python 3",
   "language": "python",
   "name": "python3"
  },
  "language_info": {
   "codemirror_mode": {
    "name": "ipython",
    "version": 3
   },
   "file_extension": ".py",
   "mimetype": "text/x-python",
   "name": "python",
   "nbconvert_exporter": "python",
   "pygments_lexer": "ipython3",
   "version": "3.10.16"
  }
 },
 "nbformat": 4,
 "nbformat_minor": 5
}
