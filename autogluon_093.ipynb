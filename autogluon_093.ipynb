{
 "cells": [
  {
   "cell_type": "markdown",
   "id": "e6a65cf4",
   "metadata": {},
   "source": [
    "Autogluon 093"
   ]
  },
  {
   "cell_type": "code",
   "execution_count": 1,
   "id": "b46e2c58",
   "metadata": {},
   "outputs": [
    {
     "name": "stdout",
     "output_type": "stream",
     "text": [
      "Librerías importadas correctamente\n",
      "Generando predicciones AutoGluon ajustadas por factor 0.93\n"
     ]
    }
   ],
   "source": [
    "# Importar librerías necesarias\n",
    "import pandas as pd\n",
    "import numpy as np\n",
    "\n",
    "print(\"Librerías importadas correctamente\")\n",
    "print(\"Generando predicciones AutoGluon ajustadas por factor 0.93\")"
   ]
  },
  {
   "cell_type": "code",
   "execution_count": 2,
   "id": "1445ba57",
   "metadata": {},
   "outputs": [
    {
     "name": "stdout",
     "output_type": "stream",
     "text": [
      "Cargando predicciones originales de AutoGluon...\n",
      "Shape de los datos originales: (780, 2)\n",
      "Total de productos: 780\n",
      "\n",
      "Primeras 5 filas de los datos originales:\n",
      "   product_id           tn\n",
      "0       20001  1322.782727\n",
      "1       20002  1076.158858\n",
      "2       20003   696.172870\n",
      "3       20004   519.217793\n",
      "4       20005   501.010270\n",
      "\n",
      "Estadísticas de las predicciones originales:\n",
      "  Promedio: 36.25\n",
      "  Mediana:  9.06\n",
      "  Std:      93.69\n",
      "  Min:      0.03\n",
      "  Max:      1322.78\n"
     ]
    }
   ],
   "source": [
    "# Cargar datos originales de AutoGluon\n",
    "print(\"Cargando predicciones originales de AutoGluon...\")\n",
    "\n",
    "# Cargar el archivo original\n",
    "pred_autogluon_original = pd.read_csv('data/pred_autogluon_01.csv')\n",
    "\n",
    "print(f\"Shape de los datos originales: {pred_autogluon_original.shape}\")\n",
    "print(f\"Total de productos: {pred_autogluon_original['product_id'].nunique()}\")\n",
    "\n",
    "print(\"\\nPrimeras 5 filas de los datos originales:\")\n",
    "print(pred_autogluon_original.head())\n",
    "\n",
    "print(f\"\\nEstadísticas de las predicciones originales:\")\n",
    "print(f\"  Promedio: {pred_autogluon_original['tn'].mean():.2f}\")\n",
    "print(f\"  Mediana:  {pred_autogluon_original['tn'].median():.2f}\")\n",
    "print(f\"  Std:      {pred_autogluon_original['tn'].std():.2f}\")\n",
    "print(f\"  Min:      {pred_autogluon_original['tn'].min():.2f}\")\n",
    "print(f\"  Max:      {pred_autogluon_original['tn'].max():.2f}\")"
   ]
  },
  {
   "cell_type": "code",
   "execution_count": 3,
   "id": "a107cf4b",
   "metadata": {},
   "outputs": [
    {
     "name": "stdout",
     "output_type": "stream",
     "text": [
      "Aplicando factor de ajuste 0.93 a las predicciones...\n",
      "Factor de ajuste aplicado: 0.93\n",
      "\n",
      "Comparación de predicciones para los primeros 5 productos:\n",
      "   product_id  tn_original   tn_093  diferencia  porcentaje_reduccion\n",
      "0       20001      1322.78  1230.19       92.59                   7.0\n",
      "1       20002      1076.16  1000.83       75.33                   7.0\n",
      "2       20003       696.17   647.44       48.73                   7.0\n",
      "3       20004       519.22   482.87       36.35                   7.0\n",
      "4       20005       501.01   465.94       35.07                   7.0\n"
     ]
    }
   ],
   "source": [
    "# Aplicar factor de ajuste 0.93\n",
    "print(\"Aplicando factor de ajuste 0.93 a las predicciones...\")\n",
    "\n",
    "# Crear una copia para las predicciones ajustadas\n",
    "pred_autogluon_093 = pred_autogluon_original.copy()\n",
    "\n",
    "# Aplicar el factor de ajuste\n",
    "factor_ajuste = 0.93\n",
    "pred_autogluon_093['tn'] = pred_autogluon_original['tn'] * factor_ajuste\n",
    "\n",
    "print(f\"Factor de ajuste aplicado: {factor_ajuste}\")\n",
    "print(f\"\\nComparación de predicciones para los primeros 5 productos:\")\n",
    "\n",
    "# Crear tabla comparativa\n",
    "comparacion = pd.DataFrame({\n",
    "    'product_id': pred_autogluon_original['product_id'].head(),\n",
    "    'tn_original': pred_autogluon_original['tn'].head(),\n",
    "    'tn_093': pred_autogluon_093['tn'].head(),\n",
    "    'diferencia': (pred_autogluon_original['tn'] - pred_autogluon_093['tn']).head(),\n",
    "    'porcentaje_reduccion': ((pred_autogluon_original['tn'] - pred_autogluon_093['tn']) / pred_autogluon_original['tn'] * 100).head()\n",
    "})\n",
    "\n",
    "print(comparacion.round(2))"
   ]
  },
  {
   "cell_type": "code",
   "execution_count": 4,
   "id": "240bb7fe",
   "metadata": {},
   "outputs": [
    {
     "name": "stdout",
     "output_type": "stream",
     "text": [
      "ANÁLISIS ESTADÍSTICO DE LAS PREDICCIONES AJUSTADAS\n",
      "============================================================\n",
      "Estadísticas de las predicciones ORIGINALES:\n",
      "  Promedio: 36.25\n",
      "  Mediana:  9.06\n",
      "  Std:      93.69\n",
      "  Min:      0.03\n",
      "  Max:      1322.78\n",
      "\n",
      "Estadísticas de las predicciones AJUSTADAS (x 0.93):\n",
      "  Promedio: 33.71\n",
      "  Mediana:  8.43\n",
      "  Std:      87.13\n",
      "  Min:      0.03\n",
      "  Max:      1230.19\n",
      "\n",
      "RESUMEN DEL AJUSTE:\n",
      "  Reducción promedio: 2.54\n",
      "  Porcentaje de reducción: 7.0%\n",
      "  Factor aplicado: 0.93 (reducción del 7%)\n",
      "\n",
      "Verificación: 0 valores negativos encontrados\n",
      "✅ Todas las predicciones ajustadas son positivas\n"
     ]
    }
   ],
   "source": [
    "# Análisis estadístico de las predicciones ajustadas\n",
    "print(\"ANÁLISIS ESTADÍSTICO DE LAS PREDICCIONES AJUSTADAS\")\n",
    "print(\"=\"*60)\n",
    "\n",
    "print(\"Estadísticas de las predicciones ORIGINALES:\")\n",
    "print(f\"  Promedio: {pred_autogluon_original['tn'].mean():.2f}\")\n",
    "print(f\"  Mediana:  {pred_autogluon_original['tn'].median():.2f}\")\n",
    "print(f\"  Std:      {pred_autogluon_original['tn'].std():.2f}\")\n",
    "print(f\"  Min:      {pred_autogluon_original['tn'].min():.2f}\")\n",
    "print(f\"  Max:      {pred_autogluon_original['tn'].max():.2f}\")\n",
    "\n",
    "print(f\"\\nEstadísticas de las predicciones AJUSTADAS (x {factor_ajuste}):\")\n",
    "print(f\"  Promedio: {pred_autogluon_093['tn'].mean():.2f}\")\n",
    "print(f\"  Mediana:  {pred_autogluon_093['tn'].median():.2f}\")\n",
    "print(f\"  Std:      {pred_autogluon_093['tn'].std():.2f}\")\n",
    "print(f\"  Min:      {pred_autogluon_093['tn'].min():.2f}\")\n",
    "print(f\"  Max:      {pred_autogluon_093['tn'].max():.2f}\")\n",
    "\n",
    "print(f\"\\nRESUMEN DEL AJUSTE:\")\n",
    "reduccion_promedio = pred_autogluon_original['tn'].mean() - pred_autogluon_093['tn'].mean()\n",
    "porcentaje_reduccion = (reduccion_promedio / pred_autogluon_original['tn'].mean()) * 100\n",
    "\n",
    "print(f\"  Reducción promedio: {reduccion_promedio:.2f}\")\n",
    "print(f\"  Porcentaje de reducción: {porcentaje_reduccion:.1f}%\")\n",
    "print(f\"  Factor aplicado: {factor_ajuste} (reducción del {(1-factor_ajuste)*100:.0f}%)\")\n",
    "\n",
    "# Verificar que no hay valores negativos\n",
    "valores_negativos = (pred_autogluon_093['tn'] < 0).sum()\n",
    "print(f\"\\nVerificación: {valores_negativos} valores negativos encontrados\")\n",
    "\n",
    "if valores_negativos > 0:\n",
    "    print(\"⚠️ Advertencia: Se encontraron valores negativos\")\n",
    "else:\n",
    "    print(\"✅ Todas las predicciones ajustadas son positivas\")"
   ]
  },
  {
   "cell_type": "code",
   "execution_count": 5,
   "id": "e0e19420",
   "metadata": {},
   "outputs": [
    {
     "name": "stdout",
     "output_type": "stream",
     "text": [
      "Guardando predicciones ajustadas en: data/pred_autogluon_093.csv\n",
      "✅ Archivo guardado exitosamente: data/pred_autogluon_093.csv\n",
      "Total de productos: 780\n",
      "Tamaño del archivo: 19954 bytes\n",
      "\n",
      "Verificación - Primeras 5 líneas del archivo guardado:\n",
      "   product_id           tn\n",
      "0       20001  1230.187936\n",
      "1       20002  1000.827738\n",
      "2       20003   647.440769\n",
      "3       20004   482.872548\n",
      "4       20005   465.939551\n",
      "\n",
      "Verificación del ajuste:\n",
      "Factor verificado: 0.9300 (esperado: 0.93)\n"
     ]
    }
   ],
   "source": [
    "# Guardar las predicciones ajustadas\n",
    "archivo_salida = \"data/pred_autogluon_093.csv\"\n",
    "\n",
    "print(f\"Guardando predicciones ajustadas en: {archivo_salida}\")\n",
    "\n",
    "# Crear directorio data si no existe\n",
    "import os\n",
    "os.makedirs(\"data\", exist_ok=True)\n",
    "\n",
    "# Seleccionar solo las columnas necesarias y guardar\n",
    "resultado_final = pred_autogluon_093[['product_id', 'tn']].copy()\n",
    "\n",
    "# Ordenar por product_id para consistencia\n",
    "resultado_final = resultado_final.sort_values('product_id').reset_index(drop=True)\n",
    "\n",
    "# Guardar el archivo\n",
    "resultado_final.to_csv(archivo_salida, index=False)\n",
    "\n",
    "print(f\"✅ Archivo guardado exitosamente: {archivo_salida}\")\n",
    "print(f\"Total de productos: {len(resultado_final)}\")\n",
    "\n",
    "# Verificar que el archivo se guardó correctamente\n",
    "if os.path.exists(archivo_salida):\n",
    "    tamaño_archivo = os.path.getsize(archivo_salida)\n",
    "    print(f\"Tamaño del archivo: {tamaño_archivo} bytes\")\n",
    "    \n",
    "    # Leer las primeras líneas del archivo guardado para verificar\n",
    "    verificacion = pd.read_csv(archivo_salida, nrows=5)\n",
    "    print(f\"\\nVerificación - Primeras 5 líneas del archivo guardado:\")\n",
    "    print(verificacion)\n",
    "    \n",
    "    # Verificar que las predicciones fueron ajustadas correctamente\n",
    "    print(f\"\\nVerificación del ajuste:\")\n",
    "    original_sample = pred_autogluon_original.iloc[0]['tn']\n",
    "    ajustado_sample = verificacion.iloc[0]['tn']\n",
    "    factor_calculado = ajustado_sample / original_sample\n",
    "    print(f\"Factor verificado: {factor_calculado:.4f} (esperado: {factor_ajuste})\")\n",
    "    \n",
    "else:\n",
    "    print(\"⚠️ Error: No se pudo crear el archivo\")"
   ]
  },
  {
   "cell_type": "code",
   "execution_count": 6,
   "id": "03bb1481",
   "metadata": {},
   "outputs": [
    {
     "name": "stdout",
     "output_type": "stream",
     "text": [
      "RESUMEN FINAL DE LA TRANSFORMACIÓN\n",
      "==================================================\n",
      "📁 Archivo original:     data/pred_autogluon_01.csv\n",
      "📁 Archivo generado:     data/pred_autogluon_093.csv\n",
      "🔄 Factor de ajuste:     0.93 (reducción del 7%)\n",
      "📊 Total de productos:   780\n",
      "📉 Reducción promedio:   2.54 unidades\n",
      "\n",
      "🎯 PROPÓSITO DEL AJUSTE:\n",
      "   Las predicciones originales de AutoGluon han sido ajustadas\n",
      "   multiplicando cada valor por 0.93, lo que resulta en\n",
      "   predicciones más conservadoras (reducidas en un 7%).\n",
      "\n",
      "✅ Proceso completado exitosamente!\n",
      "   El archivo data/pred_autogluon_093.csv está listo para usar en ensembles\n",
      "   o como predicción independiente más conservadora.\n"
     ]
    }
   ],
   "source": [
    "# Resumen final de la transformación\n",
    "print(\"RESUMEN FINAL DE LA TRANSFORMACIÓN\")\n",
    "print(\"=\"*50)\n",
    "print(f\"📁 Archivo original:     data/pred_autogluon_01.csv\")\n",
    "print(f\"📁 Archivo generado:     {archivo_salida}\")\n",
    "print(f\"🔄 Factor de ajuste:     {factor_ajuste} (reducción del {(1-factor_ajuste)*100:.0f}%)\")\n",
    "print(f\"📊 Total de productos:   {len(resultado_final)}\")\n",
    "print(f\"📉 Reducción promedio:   {reduccion_promedio:.2f} unidades\")\n",
    "\n",
    "print(f\"\\n🎯 PROPÓSITO DEL AJUSTE:\")\n",
    "print(f\"   Las predicciones originales de AutoGluon han sido ajustadas\")\n",
    "print(f\"   multiplicando cada valor por {factor_ajuste}, lo que resulta en\")\n",
    "print(f\"   predicciones más conservadoras (reducidas en un {(1-factor_ajuste)*100:.0f}%).\")\n",
    "\n",
    "print(f\"\\n✅ Proceso completado exitosamente!\")\n",
    "print(f\"   El archivo {archivo_salida} está listo para usar en ensembles\")\n",
    "print(f\"   o como predicción independiente más conservadora.\")"
   ]
  }
 ],
 "metadata": {
  "kernelspec": {
   "display_name": "ldi2",
   "language": "python",
   "name": "python3"
  },
  "language_info": {
   "codemirror_mode": {
    "name": "ipython",
    "version": 3
   },
   "file_extension": ".py",
   "mimetype": "text/x-python",
   "name": "python",
   "nbconvert_exporter": "python",
   "pygments_lexer": "ipython3",
   "version": "3.12.4"
  }
 },
 "nbformat": 4,
 "nbformat_minor": 5
}
