{
 "cells": [
  {
   "cell_type": "markdown",
   "id": "6a63460e",
   "metadata": {},
   "source": [
    "Baseline - Tn Promedio de 24 meses"
   ]
  },
  {
   "cell_type": "code",
   "execution_count": 10,
   "id": "1c707dc1",
   "metadata": {},
   "outputs": [],
   "source": [
    "import pandas as pd\n",
    "import matplotlib.pyplot as plt\n",
    "import seaborn as sns\n",
    "import numpy as np\n",
    "from statsmodels.tsa.seasonal import seasonal_decompose\n",
    "from statsmodels.tsa.stattools import acf\n",
    "from statsmodels.graphics.tsaplots import plot_acf\n",
    "from scipy.stats import linregress\n",
    "import os\n",
    "\n",
    "# Optional for larger text and better visuals\n",
    "sns.set(style=\"whitegrid\", context=\"talk\")"
   ]
  },
  {
   "cell_type": "code",
   "execution_count": 11,
   "id": "9c9d72b2",
   "metadata": {},
   "outputs": [],
   "source": [
    "# Load the sales data (tab-delimited)\n",
    "sales = pd.read_csv(\"datasets/sell-in.txt\", sep=\"\\t\", dtype={\"periodo\": str})\n",
    "\n",
    "# Load the stocks data (tab-delimited)\n",
    "stocks = pd.read_csv(\"datasets/tb_stocks.txt\", sep=\"\\t\", dtype={\"periodo\": str})\n",
    "\n",
    "# Load the product information data (tab-delimited)\n",
    "product_info = pd.read_csv(\"datasets/tb_productos.txt\", sep=\"\\t\")\n",
    "\n",
    "#carga productos a predecir\n",
    "product_predict = pd.read_csv(\"datasets/product_id_apredecir201912.txt\", sep=\"\\t\",header=0)"
   ]
  },
  {
   "cell_type": "code",
   "execution_count": 12,
   "id": "1b1c45e9",
   "metadata": {},
   "outputs": [],
   "source": [
    "# Asegurar que 'periodo' sea string\n",
    "sales['periodo'] = sales['periodo'].astype(str)\n",
    "\n"
   ]
  },
  {
   "cell_type": "code",
   "execution_count": 13,
   "id": "edfc0e1d",
   "metadata": {},
   "outputs": [],
   "source": [
    "# Paso 1: agrupar por producto y periodo, sumando tn por mes\n",
    "tn_por_producto_y_periodo = (\n",
    "    sales\n",
    "    .groupby(['product_id', 'periodo'])['tn']\n",
    "    .sum()\n",
    "    .reset_index()\n",
    ")\n"
   ]
  },
  {
   "cell_type": "code",
   "execution_count": 14,
   "id": "44d2e21b",
   "metadata": {},
   "outputs": [],
   "source": [
    "# Paso 2: filtrar solo los últimos 3 meses deseados\n",
    "ultimos_24 = ['201801', '201802', '201803','201804', '201805', '201806','201807', '201808', '201809','201810', '201811', '201812','201901', '201902', '201903','201904', '201905', '201906','201907', '201908', '201909','201910', '201911', '201912']\n",
    "tn_filtrado = tn_por_producto_y_periodo[tn_por_producto_y_periodo['periodo'].isin(ultimos_24)]"
   ]
  },
  {
   "cell_type": "code",
   "execution_count": 15,
   "id": "176eaf6f",
   "metadata": {},
   "outputs": [],
   "source": [
    "# Paso 3: calcular el promedio de esos tres meses por producto\n",
    "promedio_ultimos24 = (\n",
    "    tn_filtrado\n",
    "    .groupby('product_id')['tn']\n",
    "    .mean()\n",
    "    .reset_index()\n",
    "    .rename(columns={'tn': 'tn'})\n",
    ")"
   ]
  },
  {
   "cell_type": "code",
   "execution_count": 16,
   "id": "a573fcb5",
   "metadata": {},
   "outputs": [],
   "source": [
    "# Unir con productos a predecir\n",
    "submission = product_predict.merge(promedio_ultimos24, on='product_id', how='left')\n",
    "submission['tn'] = submission['tn'].fillna(0)"
   ]
  },
  {
   "cell_type": "code",
   "execution_count": 17,
   "id": "c5416e7b",
   "metadata": {},
   "outputs": [
    {
     "data": {
      "text/html": [
       "<div>\n",
       "<style scoped>\n",
       "    .dataframe tbody tr th:only-of-type {\n",
       "        vertical-align: middle;\n",
       "    }\n",
       "\n",
       "    .dataframe tbody tr th {\n",
       "        vertical-align: top;\n",
       "    }\n",
       "\n",
       "    .dataframe thead th {\n",
       "        text-align: right;\n",
       "    }\n",
       "</style>\n",
       "<table border=\"1\" class=\"dataframe\">\n",
       "  <thead>\n",
       "    <tr style=\"text-align: right;\">\n",
       "      <th></th>\n",
       "      <th>product_id</th>\n",
       "      <th>tn</th>\n",
       "    </tr>\n",
       "  </thead>\n",
       "  <tbody>\n",
       "    <tr>\n",
       "      <th>0</th>\n",
       "      <td>20001</td>\n",
       "      <td>1480.307860</td>\n",
       "    </tr>\n",
       "    <tr>\n",
       "      <th>1</th>\n",
       "      <td>20002</td>\n",
       "      <td>1131.400683</td>\n",
       "    </tr>\n",
       "    <tr>\n",
       "      <th>2</th>\n",
       "      <td>20003</td>\n",
       "      <td>829.972571</td>\n",
       "    </tr>\n",
       "    <tr>\n",
       "      <th>3</th>\n",
       "      <td>20004</td>\n",
       "      <td>640.487663</td>\n",
       "    </tr>\n",
       "    <tr>\n",
       "      <th>4</th>\n",
       "      <td>20005</td>\n",
       "      <td>622.990285</td>\n",
       "    </tr>\n",
       "  </tbody>\n",
       "</table>\n",
       "</div>"
      ],
      "text/plain": [
       "   product_id           tn\n",
       "0       20001  1480.307860\n",
       "1       20002  1131.400683\n",
       "2       20003   829.972571\n",
       "3       20004   640.487663\n",
       "4       20005   622.990285"
      ]
     },
     "execution_count": 17,
     "metadata": {},
     "output_type": "execute_result"
    }
   ],
   "source": [
    "submission.head()"
   ]
  },
  {
   "cell_type": "code",
   "execution_count": 18,
   "id": "6982d794",
   "metadata": {},
   "outputs": [],
   "source": [
    "submission.to_csv(\"data/pred_trivial_media24.csv\", index=False, encoding=\"utf-8\")"
   ]
  }
 ],
 "metadata": {
  "kernelspec": {
   "display_name": "ldi2",
   "language": "python",
   "name": "python3"
  },
  "language_info": {
   "codemirror_mode": {
    "name": "ipython",
    "version": 3
   },
   "file_extension": ".py",
   "mimetype": "text/x-python",
   "name": "python",
   "nbconvert_exporter": "python",
   "pygments_lexer": "ipython3",
   "version": "3.12.4"
  }
 },
 "nbformat": 4,
 "nbformat_minor": 5
}
