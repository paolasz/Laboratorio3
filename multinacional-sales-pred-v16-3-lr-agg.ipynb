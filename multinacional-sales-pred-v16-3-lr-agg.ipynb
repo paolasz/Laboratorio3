{
 "cells": [
  {
   "cell_type": "markdown",
   "id": "f95adae8",
   "metadata": {},
   "source": [
    "# Labo III\n",
    "# Multinacional - Prediccion de Ventas"
   ]
  },
  {
   "cell_type": "code",
   "execution_count": 1,
   "id": "4bcccba7",
   "metadata": {},
   "outputs": [],
   "source": [
    "import pandas as pd\n",
    "import numpy as np\n",
    "import math\n",
    "import matplotlib.pyplot as plt\n",
    "from pathlib import Path\n",
    "\n",
    "from sklearn.linear_model import LinearRegression\n",
    "from sklearn.metrics import mean_absolute_error\n",
    "from sklearn.linear_model import Ridge\n",
    "from sklearn.pipeline import Pipeline\n",
    "from sklearn.preprocessing import StandardScaler\n",
    "from sklearn.metrics import make_scorer\n",
    "from sklearn.model_selection import GridSearchCV, TimeSeriesSplit"
   ]
  },
  {
   "cell_type": "markdown",
   "id": "b64de807",
   "metadata": {},
   "source": [
    "## Cargo datasets y limpieza"
   ]
  },
  {
   "cell_type": "code",
   "execution_count": 2,
   "id": "157fc568",
   "metadata": {},
   "outputs": [],
   "source": [
    "# Load the data aggregated_montly_sales.csv using pandas\n",
    "data = pd.read_csv('datasets/aggregated_montly_sales.csv', parse_dates=['periodo'])"
   ]
  },
  {
   "cell_type": "code",
   "execution_count": 3,
   "id": "7ba68c31",
   "metadata": {},
   "outputs": [
    {
     "data": {
      "text/html": [
       "<div>\n",
       "<style scoped>\n",
       "    .dataframe tbody tr th:only-of-type {\n",
       "        vertical-align: middle;\n",
       "    }\n",
       "\n",
       "    .dataframe tbody tr th {\n",
       "        vertical-align: top;\n",
       "    }\n",
       "\n",
       "    .dataframe thead th {\n",
       "        text-align: right;\n",
       "    }\n",
       "</style>\n",
       "<table border=\"1\" class=\"dataframe\">\n",
       "  <thead>\n",
       "    <tr style=\"text-align: right;\">\n",
       "      <th></th>\n",
       "      <th>periodo</th>\n",
       "      <th>product_id</th>\n",
       "      <th>tn</th>\n",
       "      <th>cat1</th>\n",
       "      <th>cat2</th>\n",
       "      <th>cat3</th>\n",
       "      <th>brand</th>\n",
       "      <th>sku_size</th>\n",
       "      <th>descripcion</th>\n",
       "      <th>ipc</th>\n",
       "      <th>exchange_rate</th>\n",
       "    </tr>\n",
       "  </thead>\n",
       "  <tbody>\n",
       "    <tr>\n",
       "      <th>0</th>\n",
       "      <td>2017-01-01</td>\n",
       "      <td>20001</td>\n",
       "      <td>934.77220</td>\n",
       "      <td>HC</td>\n",
       "      <td>ROPA LAVADO</td>\n",
       "      <td>Liquido</td>\n",
       "      <td>ARIEL</td>\n",
       "      <td>3000.0</td>\n",
       "      <td>genoma</td>\n",
       "      <td>1.6</td>\n",
       "      <td>16.96</td>\n",
       "    </tr>\n",
       "    <tr>\n",
       "      <th>1</th>\n",
       "      <td>2017-01-01</td>\n",
       "      <td>20002</td>\n",
       "      <td>550.15704</td>\n",
       "      <td>HC</td>\n",
       "      <td>ROPA LAVADO</td>\n",
       "      <td>Liquido</td>\n",
       "      <td>LIMPIEX</td>\n",
       "      <td>3000.0</td>\n",
       "      <td>Maquina 1er lavado</td>\n",
       "      <td>1.6</td>\n",
       "      <td>16.96</td>\n",
       "    </tr>\n",
       "    <tr>\n",
       "      <th>2</th>\n",
       "      <td>2017-01-01</td>\n",
       "      <td>20003</td>\n",
       "      <td>1063.45840</td>\n",
       "      <td>FOODS</td>\n",
       "      <td>ADEREZOS</td>\n",
       "      <td>Mayonesa</td>\n",
       "      <td>NATURA</td>\n",
       "      <td>475.0</td>\n",
       "      <td>Regular sin TACC</td>\n",
       "      <td>1.6</td>\n",
       "      <td>16.96</td>\n",
       "    </tr>\n",
       "    <tr>\n",
       "      <th>3</th>\n",
       "      <td>2017-01-01</td>\n",
       "      <td>20004</td>\n",
       "      <td>555.91614</td>\n",
       "      <td>FOODS</td>\n",
       "      <td>ADEREZOS</td>\n",
       "      <td>Mayonesa</td>\n",
       "      <td>NATURA</td>\n",
       "      <td>240.0</td>\n",
       "      <td>Regular sin TACC</td>\n",
       "      <td>1.6</td>\n",
       "      <td>16.96</td>\n",
       "    </tr>\n",
       "    <tr>\n",
       "      <th>4</th>\n",
       "      <td>2017-01-01</td>\n",
       "      <td>20005</td>\n",
       "      <td>494.27010</td>\n",
       "      <td>FOODS</td>\n",
       "      <td>ADEREZOS</td>\n",
       "      <td>Mayonesa</td>\n",
       "      <td>NATURA</td>\n",
       "      <td>120.0</td>\n",
       "      <td>Regular sin TACC</td>\n",
       "      <td>1.6</td>\n",
       "      <td>16.96</td>\n",
       "    </tr>\n",
       "  </tbody>\n",
       "</table>\n",
       "</div>"
      ],
      "text/plain": [
       "     periodo  product_id          tn   cat1         cat2      cat3    brand  \\\n",
       "0 2017-01-01       20001   934.77220     HC  ROPA LAVADO   Liquido    ARIEL   \n",
       "1 2017-01-01       20002   550.15704     HC  ROPA LAVADO   Liquido  LIMPIEX   \n",
       "2 2017-01-01       20003  1063.45840  FOODS     ADEREZOS  Mayonesa   NATURA   \n",
       "3 2017-01-01       20004   555.91614  FOODS     ADEREZOS  Mayonesa   NATURA   \n",
       "4 2017-01-01       20005   494.27010  FOODS     ADEREZOS  Mayonesa   NATURA   \n",
       "\n",
       "   sku_size         descripcion  ipc  exchange_rate  \n",
       "0    3000.0              genoma  1.6          16.96  \n",
       "1    3000.0  Maquina 1er lavado  1.6          16.96  \n",
       "2     475.0    Regular sin TACC  1.6          16.96  \n",
       "3     240.0    Regular sin TACC  1.6          16.96  \n",
       "4     120.0    Regular sin TACC  1.6          16.96  "
      ]
     },
     "execution_count": 3,
     "metadata": {},
     "output_type": "execute_result"
    }
   ],
   "source": [
    "data.head()"
   ]
  },
  {
   "cell_type": "code",
   "execution_count": 4,
   "id": "80d76541",
   "metadata": {},
   "outputs": [
    {
     "name": "stdout",
     "output_type": "stream",
     "text": [
      "(31243, 11)\n",
      "periodo          datetime64[ns]\n",
      "product_id                int64\n",
      "tn                      float64\n",
      "cat1                     object\n",
      "cat2                     object\n",
      "cat3                     object\n",
      "brand                    object\n",
      "sku_size                float64\n",
      "descripcion              object\n",
      "ipc                     float64\n",
      "exchange_rate           float64\n",
      "dtype: object\n"
     ]
    }
   ],
   "source": [
    "print(data.shape)\n",
    "print(data.dtypes)"
   ]
  },
  {
   "cell_type": "code",
   "execution_count": 5,
   "id": "fe6f5f98",
   "metadata": {},
   "outputs": [],
   "source": [
    "data = data.sort_values([\"product_id\", \"periodo\"]).reset_index(drop=True)"
   ]
  },
  {
   "cell_type": "markdown",
   "id": "c032ee54",
   "metadata": {},
   "source": [
    "## Fill with 0 when there were no sales"
   ]
  },
  {
   "cell_type": "code",
   "execution_count": 6,
   "id": "0d397451",
   "metadata": {},
   "outputs": [],
   "source": [
    "# ─────────────────────────────────────────────────────────────────────────────\n",
    "# Build a COMPLETE product-month grid (0 = “no sales that month”)\n",
    "# ─────────────────────────────────────────────────────────────────────────────\n",
    "static_cols  = [\"cat1\", \"cat2\", \"cat3\", \"brand\", \"sku_size\"]\n",
    "dynamic_cols = [\"tn\", \"ipc\", \"exchange_rate\"]           # metrics that vary monthly\n",
    "\n",
    "# 1) One clean row per SKU with its static descriptors\n",
    "sku_static = (\n",
    "    data\n",
    "      .sort_values(static_cols)         # deterministic pick\n",
    "      .groupby(\"product_id\", as_index=False)[static_cols]\n",
    "      .first()\n",
    ")\n",
    "\n",
    "# 2) All calendar months present in the dataset\n",
    "all_months = pd.period_range(\n",
    "                data[\"periodo\"].min(),\n",
    "                data[\"periodo\"].max(),\n",
    "                freq=\"M\"\n",
    "             ).to_timestamp()            # → Timestamp('YYYY-MM-01')\n",
    "\n",
    "# 3) Cartesian product: every (product_id, month) combination\n",
    "full_idx = pd.MultiIndex.from_product(\n",
    "             [sku_static[\"product_id\"], all_months],\n",
    "             names=[\"product_id\", \"periodo\"]\n",
    "           )\n",
    "\n",
    "# 4) Keep ONLY the dynamic columns while re-indexing to avoid duplicate statics\n",
    "data_dyn = data[[\"product_id\", \"periodo\", *dynamic_cols]]\n",
    "\n",
    "monthly_full = (\n",
    "    data_dyn\n",
    "      .set_index([\"product_id\", \"periodo\"])\n",
    "      .reindex(full_idx, fill_value=0)     # zero = “no activity” month\n",
    "      .reset_index()\n",
    ")\n",
    "\n",
    "# 5) Bring static attributes back exactly once\n",
    "monthly_full = (\n",
    "    monthly_full\n",
    "      .merge(sku_static, on=\"product_id\", how=\"left\", validate=\"many_to_one\")\n",
    "      .sort_values([\"product_id\", \"periodo\"])\n",
    "      .reset_index(drop=True)\n",
    ")\n"
   ]
  },
  {
   "cell_type": "code",
   "execution_count": 7,
   "id": "1c2f619b",
   "metadata": {},
   "outputs": [
    {
     "name": "stdout",
     "output_type": "stream",
     "text": [
      "(44388, 10)\n",
      "   product_id    periodo         tn  ipc  exchange_rate cat1         cat2     cat3  brand  sku_size\n",
      "0       20001 2017-01-01   934.7722  1.6          16.96   HC  ROPA LAVADO  Liquido  ARIEL    3000.0\n",
      "1       20001 2017-02-01   798.0162  2.1          16.59   HC  ROPA LAVADO  Liquido  ARIEL    3000.0\n",
      "2       20001 2017-03-01  1303.3577  2.4          16.21   HC  ROPA LAVADO  Liquido  ARIEL    3000.0\n",
      "3       20001 2017-04-01  1069.9613  2.7          15.96   HC  ROPA LAVADO  Liquido  ARIEL    3000.0\n",
      "4       20001 2017-05-01  1502.2013  1.4          15.95   HC  ROPA LAVADO  Liquido  ARIEL    3000.0\n"
     ]
    }
   ],
   "source": [
    "print(monthly_full.shape)\n",
    "print(monthly_full.head().to_string())"
   ]
  },
  {
   "cell_type": "code",
   "execution_count": 8,
   "id": "4905984a",
   "metadata": {},
   "outputs": [
    {
     "name": "stdout",
     "output_type": "stream",
     "text": [
      "Unique periods: 36\n",
      "Unique products: 1233\n"
     ]
    }
   ],
   "source": [
    "# Count different periodo and product_id\n",
    "print(\"Unique periods:\", monthly_full[\"periodo\"].nunique())\n",
    "print(\"Unique products:\", monthly_full[\"product_id\"].nunique())"
   ]
  },
  {
   "cell_type": "code",
   "execution_count": 9,
   "id": "305dd4d5",
   "metadata": {},
   "outputs": [
    {
     "data": {
      "text/plain": [
       "(44388, 10)"
      ]
     },
     "execution_count": 9,
     "metadata": {},
     "output_type": "execute_result"
    }
   ],
   "source": [
    "monthly_full.shape"
   ]
  },
  {
   "cell_type": "markdown",
   "id": "99a38178",
   "metadata": {},
   "source": [
    "# Total Forecast Error (TFE)\n",
    "Usamos la formula para medir el error de las predicciones:\n",
    "$$\n",
    "\\text{TFE} = \\frac{\\sum_i \\left| \\hat{y}_i - y_i \\right|}{\\sum_i y_i}\n",
    "$$\n"
   ]
  },
  {
   "cell_type": "code",
   "execution_count": 10,
   "id": "41381a6f",
   "metadata": {},
   "outputs": [],
   "source": [
    "def total_forecast_error(y_true, y_pred):\n",
    "    return np.sum(np.abs(y_pred - y_true)) / np.sum(y_true)\n",
    "\n"
   ]
  },
  {
   "cell_type": "markdown",
   "id": "a62038e7",
   "metadata": {},
   "source": [
    "# Feature Engineering"
   ]
  },
  {
   "cell_type": "code",
   "execution_count": 11,
   "id": "3e2b7029",
   "metadata": {},
   "outputs": [],
   "source": [
    "# Sort the data by product_id and periodo\n",
    "monthly_full = monthly_full.sort_values([\"product_id\", \"periodo\"]).reset_index(drop=True)"
   ]
  },
  {
   "cell_type": "code",
   "execution_count": 12,
   "id": "700b8458",
   "metadata": {},
   "outputs": [],
   "source": [
    "monthly_full[\"y\"] = (\n",
    "    monthly_full.groupby(\"product_id\")[\"tn\"]\n",
    "      .shift(-2)                             # +2-month look-ahead\n",
    ")"
   ]
  },
  {
   "cell_type": "code",
   "execution_count": 13,
   "id": "d9095f69",
   "metadata": {},
   "outputs": [],
   "source": [
    "# Date features\n",
    "monthly_full[\"month\"] = monthly_full[\"periodo\"].dt.month\n",
    "monthly_full[\"year\"] = monthly_full[\"periodo\"].dt.year"
   ]
  },
  {
   "cell_type": "code",
   "execution_count": 14,
   "id": "a6a9d2b8",
   "metadata": {},
   "outputs": [],
   "source": [
    "# ─────────────────────────────────────────────────────────────────────────────\n",
    "# Lag features \n",
    "# ─────────────────────────────────────────────────────────────────────────────\n",
    "\n",
    "monthly_full = monthly_full.sort_values([\"product_id\", \"periodo\"]).copy()\n",
    "\n",
    "LAGS = [1, 2, 3, 4, 5, 6, 7, 8, 9, 10, 11]\n",
    "for lag in LAGS:\n",
    "    monthly_full[f\"tn_lag_{lag}\"] = (\n",
    "        monthly_full.groupby(\"product_id\")[\"tn\"].shift(lag)\n",
    "    )"
   ]
  },
  {
   "cell_type": "code",
   "execution_count": 15,
   "id": "22009d8f",
   "metadata": {},
   "outputs": [],
   "source": [
    "# ─────────────────────────────────────────────────────────────────────────────\n",
    "# Delta lags\n",
    "# ─────────────────────────────────────────────────────────────────────────────\n",
    "\n",
    "lags=(1, 2, 3)\n",
    "target=\"tn\"\n",
    "\n",
    "monthly_full = monthly_full.sort_values([\"product_id\", \"periodo\"]).copy()\n",
    "\n",
    "for k in lags:\n",
    "    lag_now      = f\"lag_{k}\"\n",
    "    lag_lastyr   = f\"lag_{k+10}\"\n",
    "    delta_col    = f\"delta_{k}_vs_{k+10}\"\n",
    "\n",
    "    grp = monthly_full.groupby(\"product_id\")[target]\n",
    "\n",
    "    monthly_full[lag_now]    = grp.shift(k)\n",
    "    monthly_full[lag_lastyr] = grp.shift(k + 10)\n",
    "    monthly_full[delta_col]  = monthly_full[lag_now] - monthly_full[lag_lastyr]\n",
    "\n",
    "\n",
    "ks = range(10, 23)\n",
    "monthly_full = monthly_full.sort_values([\"product_id\", \"periodo\"]).copy()\n",
    "\n",
    "diff_cols = []\n",
    "pct_cols  = []\n",
    "\n",
    "for k in ks:\n",
    "    lag_col  = f\"_lag{k}\"\n",
    "    d_col    = f\"_diff{k}\"\n",
    "    pct_col  = f\"_pct{k}\"\n",
    "\n",
    "    # lagged value\n",
    "    monthly_full[lag_col] = monthly_full.groupby(\"product_id\")[target].shift(k)\n",
    "\n",
    "    # absolute & % deltas\n",
    "    monthly_full[d_col]   = monthly_full[target] - monthly_full[lag_col]\n",
    "    monthly_full[pct_col] = monthly_full[d_col] / monthly_full[lag_col].replace(0, np.nan)\n",
    "\n",
    "    diff_cols.append(d_col)\n",
    "    pct_cols.append(pct_col)\n",
    "\n",
    "# average across the 13 lags\n",
    "monthly_full[\"avg_delta_12_24\"]     = monthly_full[diff_cols].mean(axis=1)\n",
    "monthly_full[\"avg_delta_pct_12_24\"] = monthly_full[pct_cols].mean(axis=1)\n",
    "\n",
    "# drop helper cols to keep table tidy\n",
    "monthly_full.drop(columns=[*diff_cols, *pct_cols, *[f\"_lag{k}\" for k in ks]],\n",
    "        inplace=True)\n"
   ]
  },
  {
   "cell_type": "code",
   "execution_count": 16,
   "id": "f29d8b31",
   "metadata": {},
   "outputs": [],
   "source": [
    "# ─────────────────────────────────────────────────────────────────────────────\n",
    "# Rolling mean features\n",
    "# ─────────────────────────────────────────────────────────────────────────────\n",
    "\n",
    "monthly_full = monthly_full.sort_values([\"product_id\", \"periodo\"]).copy()\n",
    "\n",
    "# windows you want; order doesn’t matter\n",
    "ROLL_WINDOWS = [12]\n",
    "\n",
    "for w in ROLL_WINDOWS:\n",
    "    monthly_full[f\"tn_roll_mean_{w}\"] = (\n",
    "        monthly_full\n",
    "            .groupby(\"product_id\")[\"tn\"]\n",
    "            .transform(lambda s: s.rolling(w, min_periods=1).mean())\n",
    "            .astype(\"float32\")\n",
    "    )"
   ]
  },
  {
   "cell_type": "code",
   "execution_count": 17,
   "id": "1a0b3c2f",
   "metadata": {},
   "outputs": [],
   "source": [
    "# ─────────────────────────────────────────────────────────────────────────────\n",
    "# Seasonality by category\n",
    "# ─────────────────────────────────────────────────────────────────────────────\n",
    "\n",
    "monthly_full[\"cat2_month\"] = monthly_full[\"cat2\"] + \"_\" + monthly_full[\"month\"].astype(str).str.zfill(2)"
   ]
  },
  {
   "cell_type": "code",
   "execution_count": 18,
   "id": "0c091f50",
   "metadata": {},
   "outputs": [],
   "source": [
    "# ─────────────────────────────────────────────────────────────────────────────\n",
    "# Category sales\n",
    "# ─────────────────────────────────────────────────────────────────────────────\n",
    "\n",
    "# Drop rows with NaN in cat2\n",
    "monthly_full = monthly_full.dropna(subset=[\"cat2\"])\n",
    "\n",
    "grp = monthly_full.groupby([\"cat2\",\"periodo\"])[\"tn\"].sum().rename(\"cat2_tot\")\n",
    "monthly_full = monthly_full.merge(grp, on=[\"cat2\",\"periodo\"], how=\"left\")\n",
    "monthly_full[\"cat2_lag1\"] = monthly_full.groupby(\"cat2\")[\"cat2_tot\"].shift(1)\n",
    "monthly_full[\"cat2_lag10\"] = monthly_full.groupby(\"cat2\")[\"cat2_tot\"].shift(10)\n",
    "\n",
    "grp = monthly_full.groupby([\"cat1\",\"periodo\"])[\"tn\"].sum().rename(\"cat1_tot\")\n",
    "monthly_full = monthly_full.merge(grp, on=[\"cat1\",\"periodo\"], how=\"left\")\n",
    "monthly_full[\"cat1_lag1\"] = monthly_full.groupby(\"cat1\")[\"cat1_tot\"].shift(1)\n",
    "monthly_full[\"cat1_lag10\"] = monthly_full.groupby(\"cat1\")[\"cat1_tot\"].shift(10)"
   ]
  },
  {
   "cell_type": "code",
   "execution_count": 19,
   "id": "914a767b",
   "metadata": {},
   "outputs": [
    {
     "name": "stdout",
     "output_type": "stream",
     "text": [
      "Missing values per column:\n",
      "y                       2376\n",
      "tn_lag_1                1188\n",
      "tn_lag_2                2376\n",
      "tn_lag_3                3564\n",
      "tn_lag_4                4752\n",
      "tn_lag_5                5940\n",
      "tn_lag_6                7128\n",
      "tn_lag_7                8316\n",
      "tn_lag_8                9504\n",
      "tn_lag_9               10692\n",
      "tn_lag_10              11880\n",
      "tn_lag_11              13068\n",
      "lag_1                   1188\n",
      "lag_11                 13068\n",
      "delta_1_vs_11          13068\n",
      "lag_2                   2376\n",
      "lag_12                 14256\n",
      "delta_2_vs_12          14256\n",
      "lag_3                   3564\n",
      "lag_13                 15444\n",
      "delta_3_vs_13          15444\n",
      "avg_delta_12_24        11880\n",
      "avg_delta_pct_12_24    19739\n",
      "cat2_lag1                 15\n",
      "cat2_lag10               150\n",
      "cat1_lag1                  4\n",
      "cat1_lag10                40\n",
      "dtype: int64\n"
     ]
    }
   ],
   "source": [
    "# Count missing values per column\n",
    "missing_counts = monthly_full.isnull().sum()\n",
    "print(\"Missing values per column:\")\n",
    "print(missing_counts[missing_counts > 0])"
   ]
  },
  {
   "cell_type": "code",
   "execution_count": 20,
   "id": "00546463",
   "metadata": {},
   "outputs": [
    {
     "data": {
      "text/plain": [
       "product_id                      int64\n",
       "periodo                datetime64[ns]\n",
       "tn                            float64\n",
       "ipc                           float64\n",
       "exchange_rate                 float64\n",
       "cat1                           object\n",
       "cat2                           object\n",
       "cat3                           object\n",
       "brand                          object\n",
       "sku_size                      float64\n",
       "y                             float64\n",
       "month                           int32\n",
       "year                            int32\n",
       "tn_lag_1                      float64\n",
       "tn_lag_2                      float64\n",
       "tn_lag_3                      float64\n",
       "tn_lag_4                      float64\n",
       "tn_lag_5                      float64\n",
       "tn_lag_6                      float64\n",
       "tn_lag_7                      float64\n",
       "tn_lag_8                      float64\n",
       "tn_lag_9                      float64\n",
       "tn_lag_10                     float64\n",
       "tn_lag_11                     float64\n",
       "lag_1                         float64\n",
       "lag_11                        float64\n",
       "delta_1_vs_11                 float64\n",
       "lag_2                         float64\n",
       "lag_12                        float64\n",
       "delta_2_vs_12                 float64\n",
       "lag_3                         float64\n",
       "lag_13                        float64\n",
       "delta_3_vs_13                 float64\n",
       "avg_delta_12_24               float64\n",
       "avg_delta_pct_12_24           float64\n",
       "tn_roll_mean_12               float32\n",
       "cat2_month                     object\n",
       "cat2_tot                      float64\n",
       "cat2_lag1                     float64\n",
       "cat2_lag10                    float64\n",
       "cat1_tot                      float64\n",
       "cat1_lag1                     float64\n",
       "cat1_lag10                    float64\n",
       "dtype: object"
      ]
     },
     "execution_count": 20,
     "metadata": {},
     "output_type": "execute_result"
    }
   ],
   "source": [
    "monthly_full.dtypes"
   ]
  },
  {
   "cell_type": "code",
   "execution_count": 21,
   "id": "10229a44",
   "metadata": {},
   "outputs": [
    {
     "name": "stdout",
     "output_type": "stream",
     "text": [
      "   product_id    periodo         tn  ipc  exchange_rate cat1         cat2     cat3  brand  sku_size          y  month  year   tn_lag_1   tn_lag_2  tn_lag_3  tn_lag_4  tn_lag_5  tn_lag_6  tn_lag_7  tn_lag_8  tn_lag_9  tn_lag_10  tn_lag_11      lag_1  lag_11  delta_1_vs_11      lag_2  lag_12  delta_2_vs_12     lag_3  lag_13  delta_3_vs_13  avg_delta_12_24  avg_delta_pct_12_24  tn_roll_mean_12      cat2_month     cat2_tot    cat2_lag1  cat2_lag10     cat1_tot    cat1_lag1  cat1_lag10\n",
      "0       20001 2017-01-01   934.7722  1.6          16.96   HC  ROPA LAVADO  Liquido  ARIEL    3000.0  1303.3577      1  2017        NaN        NaN       NaN       NaN       NaN       NaN       NaN       NaN       NaN        NaN        NaN        NaN     NaN            NaN        NaN     NaN            NaN       NaN     NaN            NaN              NaN                  NaN       934.772217  ROPA LAVADO_01  11153.29603          NaN         NaN  20304.28691          NaN         NaN\n",
      "1       20001 2017-02-01   798.0162  2.1          16.59   HC  ROPA LAVADO  Liquido  ARIEL    3000.0  1069.9613      2  2017   934.7722        NaN       NaN       NaN       NaN       NaN       NaN       NaN       NaN        NaN        NaN   934.7722     NaN            NaN        NaN     NaN            NaN       NaN     NaN            NaN              NaN                  NaN       866.394226  ROPA LAVADO_02  10799.07238  11153.29603         NaN  20183.30148  20304.28691         NaN\n",
      "2       20001 2017-03-01  1303.3577  2.4          16.21   HC  ROPA LAVADO  Liquido  ARIEL    3000.0  1502.2013      3  2017   798.0162   934.7722       NaN       NaN       NaN       NaN       NaN       NaN       NaN        NaN        NaN   798.0162     NaN            NaN   934.7722     NaN            NaN       NaN     NaN            NaN              NaN                  NaN      1012.048706  ROPA LAVADO_03  15565.44483  10799.07238         NaN  28883.25589  20183.30148         NaN\n",
      "3       20001 2017-04-01  1069.9613  2.7          15.96   HC  ROPA LAVADO  Liquido  ARIEL    3000.0  1520.0654      4  2017  1303.3577   798.0162  934.7722       NaN       NaN       NaN       NaN       NaN       NaN        NaN        NaN  1303.3577     NaN            NaN   798.0162     NaN            NaN  934.7722     NaN            NaN              NaN                  NaN      1026.526855  ROPA LAVADO_04  12470.81754  15565.44483         NaN  24453.26452  28883.25589         NaN\n",
      "4       20001 2017-05-01  1502.2013  1.4          15.95   HC  ROPA LAVADO  Liquido  ARIEL    3000.0  1030.6740      5  2017  1069.9613  1303.3577  798.0162  934.7722       NaN       NaN       NaN       NaN       NaN        NaN        NaN  1069.9613     NaN            NaN  1303.3577     NaN            NaN  798.0162     NaN            NaN              NaN                  NaN      1121.661743  ROPA LAVADO_05  16396.10161  12470.81754         NaN  29339.17345  24453.26452         NaN\n"
     ]
    }
   ],
   "source": [
    "print(monthly_full.head().to_string())"
   ]
  },
  {
   "cell_type": "markdown",
   "id": "1bddc8b3",
   "metadata": {},
   "source": [
    "# Train/Val split"
   ]
  },
  {
   "cell_type": "code",
   "execution_count": 22,
   "id": "ef9b8b5f",
   "metadata": {},
   "outputs": [],
   "source": [
    "# ── 1. Temporal splits ───────────────────────────────────────────────────────\n",
    "cut_train_end = \"2019-08-01\"\n",
    "cut_valid     = \"2019-10-01\"\n",
    "cut_test      = \"2019-12-01\"\n",
    "\n",
    "train_df = monthly_full[monthly_full[\"periodo\"] <= cut_train_end]\n",
    "valid_df = monthly_full[monthly_full[\"periodo\"] == cut_valid]\n",
    "test_df  = monthly_full[monthly_full[\"periodo\"] == cut_test]\n",
    "\n",
    "train_df = train_df.dropna()\n",
    "valid_df = valid_df.dropna()\n",
    "\n",
    "# ── 2. Identify columns ──────────────────────────────────────────────────────\n",
    "# target + timestamp to drop\n",
    "drop_cols = [\"periodo\", \"y\", \"brand\", \"sku_size\"]          # keep product_id in case you want it as a categorical\n",
    "\n",
    "# everything else is a feature\n",
    "feature_cols = [c for c in monthly_full.columns if c not in drop_cols]\n",
    "\n",
    "# split into categorical / numeric\n",
    "categorical_cols = (\n",
    "    monthly_full[feature_cols]\n",
    "    .select_dtypes(include=[\"object\", \"category\"])\n",
    "    .columns.tolist()\n",
    ")\n",
    "\n",
    "numeric_cols = [c for c in feature_cols if c not in categorical_cols]\n",
    "\n",
    "# ── 3. One-hot encode categoricals and align splits ──────────────────────────\n",
    "def prepare(df):\n",
    "    # separate blocks to keep order consistent\n",
    "    num  = df[numeric_cols].copy()\n",
    "    cats = pd.get_dummies(\n",
    "        df[categorical_cols],\n",
    "        prefix       = categorical_cols,\n",
    "        drop_first   = True,          # avoid dummy trap\n",
    "        dtype        = \"int8\"\n",
    "    )\n",
    "    out = pd.concat([num, cats], axis=1)\n",
    "    return out\n",
    "\n",
    "X_train = prepare(train_df)\n",
    "X_valid = prepare(valid_df)\n",
    "X_test  = prepare(test_df)\n",
    "\n",
    "# make sure all three have identical columns (train is the superset)\n",
    "X_valid = X_valid.reindex(columns=X_train.columns, fill_value=0)\n",
    "X_test  = X_test.reindex( columns=X_train.columns, fill_value=0)\n",
    "\n",
    "y_train = train_df[\"y\"].values\n",
    "y_valid = valid_df[\"y\"].values"
   ]
  },
  {
   "cell_type": "code",
   "execution_count": 23,
   "id": "b8f3209c",
   "metadata": {},
   "outputs": [
    {
     "name": "stdout",
     "output_type": "stream",
     "text": [
      "Missing values per column:\n",
      "Series([], dtype: int64)\n"
     ]
    }
   ],
   "source": [
    "# Count missing values per column\n",
    "missing_counts = X_train.isnull().sum()\n",
    "print(\"Missing values per column:\")\n",
    "print(missing_counts[missing_counts > 0])"
   ]
  },
  {
   "cell_type": "markdown",
   "id": "28537fcb",
   "metadata": {},
   "source": [
    "# Fit Linear Regression"
   ]
  },
  {
   "cell_type": "code",
   "execution_count": 24,
   "id": "8d679ec6",
   "metadata": {},
   "outputs": [
    {
     "name": "stdout",
     "output_type": "stream",
     "text": [
      "Fitting 5 folds for each of 15 candidates, totalling 75 fits\n",
      "\n",
      "Best α         : 1000.0\n",
      "CV TFE (neg)   : -215.4935%\n",
      "Validation TFE : 38.5412%\n"
     ]
    }
   ],
   "source": [
    "tfe_scorer = make_scorer(total_forecast_error, greater_is_better=False)\n",
    "\n",
    "ridge = Ridge(fit_intercept=True, random_state=42)\n",
    "\n",
    "param_grid = {\n",
    "    \"alpha\": np.logspace(-4, 3, 15)   # try 15 alphas from 1e-4 to 1e3\n",
    "}\n",
    "\n",
    "tscv = TimeSeriesSplit(n_splits=5)    # keeps temporal order\n",
    "\n",
    "search = GridSearchCV(\n",
    "    estimator=ridge,\n",
    "    param_grid=param_grid,\n",
    "    scoring=tfe_scorer,\n",
    "    cv=tscv,\n",
    "    n_jobs=-1,\n",
    "    verbose=1\n",
    ")\n",
    "\n",
    "search.fit(X_train, y_train)\n",
    "\n",
    "best_ridge = search.best_estimator_\n",
    "print(f\"\\nBest α         : {best_ridge.alpha}\")\n",
    "print(f\"CV TFE (neg)   : {search.best_score_:.4%}\")  # negative because lower = better\n",
    "\n",
    "# evaluate on the hold-out month\n",
    "valid_pred = best_ridge.predict(X_valid)\n",
    "print(f\"Validation TFE : {total_forecast_error(y_valid, valid_pred):.4%}\")"
   ]
  },
  {
   "cell_type": "code",
   "execution_count": 25,
   "id": "47db510b",
   "metadata": {},
   "outputs": [
    {
     "name": "stdout",
     "output_type": "stream",
     "text": [
      "Validation TotalForecastError: 0.3427\n"
     ]
    }
   ],
   "source": [
    "y_pred_valid = best_ridge.predict(X_valid)\n",
    "y_pred_valid = np.maximum(0, y_pred_valid)\n",
    "tfe_valid = total_forecast_error(y_valid, y_pred_valid)\n",
    "print(\"Validation TotalForecastError:\", tfe_valid.round(4))"
   ]
  },
  {
   "cell_type": "code",
   "execution_count": 26,
   "id": "79aef43c",
   "metadata": {},
   "outputs": [
    {
     "data": {
      "image/png": "[encoded data removed]",
      "text/plain": [
       "<Figure size 600x600 with 1 Axes>"
      ]
     },
     "metadata": {},
     "output_type": "display_data"
    }
   ],
   "source": [
    "# ── Compute the axis limits ─────────────────────────────────────────────────\n",
    "both = np.concatenate([y_valid, y_pred_valid])\n",
    "lo, hi = both.min(), both.max()\n",
    "pad = 0.05 * (hi - lo)                   # small margin for nicer frame\n",
    "lo -= pad\n",
    "hi += pad\n",
    "\n",
    "# ── Plot ────────────────────────────────────────────────────────────────────\n",
    "plt.figure(figsize=(6, 6))\n",
    "plt.scatter(y_valid, y_pred_valid, alpha=0.6, s=12)\n",
    "plt.plot([lo, hi], [lo, hi], lw=2, linestyle='--')   # 45° perfect‐fit line\n",
    "plt.xlim(lo, hi)\n",
    "plt.ylim(lo, hi)\n",
    "plt.gca().set_aspect('equal', adjustable='box')\n",
    "plt.xlabel(\"Actual tn\")\n",
    "plt.ylabel(\"Predicted tn\")\n",
    "plt.title(f\"Product-level forecasts — validation\\nTotal Forecast Error = {tfe_valid:.2%}\")\n",
    "plt.tight_layout()\n",
    "plt.show()"
   ]
  },
  {
   "cell_type": "code",
   "execution_count": 27,
   "id": "af7e7cfb",
   "metadata": {},
   "outputs": [],
   "source": [
    "\n",
    "def plot_product_timeseries(actual_df,\n",
    "                            product_id,\n",
    "                            pred_df,\n",
    "                            *,\n",
    "                            actual_col=\"tn\",\n",
    "                            pred_col=\"pred_tn\",\n",
    "                            date_col=\"periodo\",\n",
    "                            actual_color=\"#1f77b4\",   # classic Matplotlib blue\n",
    "                            pred_color=\"#ff7f0e\"      # classic Matplotlib orange\n",
    "                           ):\n",
    "    \"\"\"\n",
    "    Plot monthly actual vs-predicted sales for a single product.\n",
    "\n",
    "    Parameters\n",
    "    ----------\n",
    "    actual_df : pd.DataFrame\n",
    "        Must hold columns: product_id, periodo (datetime), tn.\n",
    "    product_id : int or str\n",
    "        The product you want to visualise.\n",
    "    pred_df : pd.DataFrame\n",
    "        Must hold the same keys plus a prediction column (default 'pred_tn').\n",
    "    actual_col, pred_col, date_col : str\n",
    "        Column names for actuals, predictions, and the timestamp.\n",
    "    actual_color, pred_color : str (HTML/CSS colour codes)\n",
    "        Override to customise colours.\n",
    "    \"\"\"\n",
    "\n",
    "    # ── slice & sort ──────────────────────────────────────────────────────────\n",
    "    act = (\n",
    "        actual_df.loc[actual_df[\"product_id\"] == product_id,\n",
    "                      [date_col, actual_col]]\n",
    "        .sort_values(date_col)\n",
    "        .reset_index(drop=True)\n",
    "    )\n",
    "\n",
    "    pred = (\n",
    "        pred_df.loc[pred_df[\"product_id\"] == product_id,\n",
    "                    [date_col, pred_col]]\n",
    "        .sort_values(date_col)\n",
    "        .reset_index(drop=True)\n",
    "    )\n",
    "\n",
    "    # ── plot ─────────────────────────────────────────────────────────────────\n",
    "    fig, ax = plt.subplots(figsize=(10, 4))\n",
    "\n",
    "    ax.plot(act[date_col], act[actual_col],\n",
    "            marker=\"o\", lw=2, color=actual_color, label=\"Actual\")\n",
    "\n",
    "    if not pred.empty:\n",
    "        ax.plot(pred[date_col], pred[pred_col],\n",
    "                marker=\"x\", lw=2, ls=\"--\", color=pred_color, label=\"Predicted\")\n",
    "\n",
    "    # ── cosmetics ────────────────────────────────────────────────────────────\n",
    "    ax.set_title(f\"Monthly sales — Product {product_id}\")\n",
    "    ax.set_ylabel(\"tn\")\n",
    "    ax.set_xlabel(\"Month\")\n",
    "    ax.grid(True, alpha=0.3)\n",
    "    ax.legend()\n",
    "    fig.autofmt_xdate()\n",
    "    plt.tight_layout()\n",
    "    plt.show()\n",
    "\n",
    "valid_plot = valid_df[[\"product_id\", \"periodo\", \"tn\"]].copy()\n",
    "valid_plot[\"pred_tn\"] = y_pred_valid"
   ]
  },
  {
   "cell_type": "code",
   "execution_count": 28,
   "id": "6dd36ddd",
   "metadata": {},
   "outputs": [
    {
     "data": {
      "image/png": "[encoded data removed]",
      "text/plain": [
       "<Figure size 1000x400 with 1 Axes>"
      ]
     },
     "metadata": {},
     "output_type": "display_data"
    }
   ],
   "source": [
    "plot_product_timeseries(\n",
    "    actual_df = monthly_full,   # DataFrame with the ground truth\n",
    "    product_id = 20002,         # change as you explore\n",
    "    pred_df = valid_plot           # DataFrame that has 'pred_tn'\n",
    ")"
   ]
  },
  {
   "cell_type": "markdown",
   "id": "0028f579",
   "metadata": {},
   "source": [
    "# Forecast Feb 2020"
   ]
  },
  {
   "cell_type": "code",
   "execution_count": 29,
   "id": "f19884bf",
   "metadata": {},
   "outputs": [
    {
     "name": "stdout",
     "output_type": "stream",
     "text": [
      "Missing values in test_df:\n",
      "avg_delta_pct_12_24    223\n",
      "dtype: int64\n"
     ]
    }
   ],
   "source": [
    "# Check NaN in test_df\n",
    "missing_counts_test = X_test.isnull().sum()\n",
    "print(\"Missing values in test_df:\")\n",
    "print(missing_counts_test[missing_counts_test > 0])"
   ]
  },
  {
   "cell_type": "code",
   "execution_count": null,
   "id": "e08be8d3",
   "metadata": {},
   "outputs": [
    {
     "name": "stdout",
     "output_type": "stream",
     "text": [
      "NaN encontrados en X_test, se imputan con 0\n"
     ]
    }
   ],
   "source": [
    "\n",
    "# Imputar NaN en X_test antes de predecir\n",
    "# if X_test.isnull().any().any():\n",
    "#  print(\"NaN encontrados en X_test, se imputan con 0\")\n",
    "#  X_test = X_test.fillna(0)"
   ]
  },
  {
   "cell_type": "code",
   "execution_count": 41,
   "id": "0da0659a",
   "metadata": {},
   "outputs": [
    {
     "data": {
      "text/html": [
       "<div>\n",
       "<style scoped>\n",
       "    .dataframe tbody tr th:only-of-type {\n",
       "        vertical-align: middle;\n",
       "    }\n",
       "\n",
       "    .dataframe tbody tr th {\n",
       "        vertical-align: top;\n",
       "    }\n",
       "\n",
       "    .dataframe thead th {\n",
       "        text-align: right;\n",
       "    }\n",
       "</style>\n",
       "<table border=\"1\" class=\"dataframe\">\n",
       "  <thead>\n",
       "    <tr style=\"text-align: right;\">\n",
       "      <th></th>\n",
       "      <th>product_id</th>\n",
       "      <th>forecast_tn</th>\n",
       "    </tr>\n",
       "  </thead>\n",
       "  <tbody>\n",
       "    <tr>\n",
       "      <th>35</th>\n",
       "      <td>20001</td>\n",
       "      <td>1304.582414</td>\n",
       "    </tr>\n",
       "    <tr>\n",
       "      <th>71</th>\n",
       "      <td>20002</td>\n",
       "      <td>989.832324</td>\n",
       "    </tr>\n",
       "    <tr>\n",
       "      <th>107</th>\n",
       "      <td>20003</td>\n",
       "      <td>756.857492</td>\n",
       "    </tr>\n",
       "    <tr>\n",
       "      <th>143</th>\n",
       "      <td>20004</td>\n",
       "      <td>592.070710</td>\n",
       "    </tr>\n",
       "    <tr>\n",
       "      <th>179</th>\n",
       "      <td>20005</td>\n",
       "      <td>595.341994</td>\n",
       "    </tr>\n",
       "  </tbody>\n",
       "</table>\n",
       "</div>"
      ],
      "text/plain": [
       "     product_id  forecast_tn\n",
       "35        20001  1304.582414\n",
       "71        20002   989.832324\n",
       "107       20003   756.857492\n",
       "143       20004   592.070710\n",
       "179       20005   595.341994"
      ]
     },
     "execution_count": 41,
     "metadata": {},
     "output_type": "execute_result"
    }
   ],
   "source": [
    "test_df = test_df.copy()   # keep original cols\n",
    "\n",
    "# Imputar NaN en X_test antes de predecir\n",
    "if X_test.isnull().any().any():\n",
    "    print(\"NaN encontrados en X_test, se eliminan las filas con NaN\")\n",
    "    X_test = X_test.dropna()\n",
    "\n",
    "# Prediccion\n",
    "raw_pred = best_ridge.predict(X_test)\n",
    "\n",
    "# Cambio negativos por 0\n",
    "test_df[\"pred_tn\"] = np.maximum(0, raw_pred) \n",
    "\n",
    "forecast_feb2020 = (\n",
    "    test_df[[\"product_id\", \"pred_tn\"]]\n",
    "    .rename(columns={\"pred_tn\": \"forecast_tn\"})\n",
    ")\n",
    "forecast_feb2020.head()"
   ]
  },
  {
   "cell_type": "markdown",
   "id": "e89fcf74",
   "metadata": {},
   "source": [
    "Keep products to predict\n"
   ]
  },
  {
   "cell_type": "code",
   "execution_count": 43,
   "id": "6962da83",
   "metadata": {},
   "outputs": [],
   "source": [
    "# Abrimos el archivo con los productos que queremos predecir\n",
    "to_predict = pd.read_csv(\"datasets/a_predecir.txt\", dtype={\"product_id\": str})\n",
    "product_ids = to_predict['product_id'].astype(str).unique()"
   ]
  },
  {
   "cell_type": "code",
   "execution_count": 44,
   "id": "01f232d9",
   "metadata": {},
   "outputs": [
    {
     "name": "stdout",
     "output_type": "stream",
     "text": [
      "     product_id           tn\n",
      "35        20001  1304.582414\n",
      "71        20002   989.832324\n",
      "107       20003   756.857492\n",
      "143       20004   592.070710\n",
      "179       20005   595.341994\n",
      "780\n"
     ]
    }
   ],
   "source": [
    "df_filtered = forecast_feb2020[\n",
    "    forecast_feb2020['product_id'].astype(str).isin(product_ids)\n",
    "].copy()\n",
    "\n",
    "# Rename forecast_tn to tn\n",
    "df_filtered.rename(columns={\"forecast_tn\": \"tn\"}, inplace=True)\n",
    "\n",
    "# Now `df_filtered` contains only the products you care about.\n",
    "print(df_filtered.head())\n",
    "\n",
    "print(len(df_filtered))"
   ]
  },
  {
   "cell_type": "code",
   "execution_count": 45,
   "id": "781a9a5a",
   "metadata": {},
   "outputs": [],
   "source": [
    "df_filtered.to_csv(\"data/regresion_lineal_clase02.csv\", index=False)"
   ]
  }
 ],
 "metadata": {
  "kernelspec": {
   "display_name": "ldi2",
   "language": "python",
   "name": "python3"
  },
  "language_info": {
   "codemirror_mode": {
    "name": "ipython",
    "version": 3
   },
   "file_extension": ".py",
   "mimetype": "text/x-python",
   "name": "python",
   "nbconvert_exporter": "python",
   "pygments_lexer": "ipython3",
   "version": "3.12.4"
  }
 },
 "nbformat": 4,
 "nbformat_minor": 5
}
